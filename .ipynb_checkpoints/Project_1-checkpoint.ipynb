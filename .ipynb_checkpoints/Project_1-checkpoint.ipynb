{
 "cells": [
  {
   "cell_type": "markdown",
   "id": "c21ed938",
   "metadata": {},
   "source": [
    "# Scraping GitHub Topics"
   ]
  },
  {
   "cell_type": "markdown",
   "id": "19c12b85",
   "metadata": {},
   "source": [
    "## Pick a website and describe your objective\n",
    "\n",
    "- Browse through different sites and pick on to scrape. Check the \"Project Ideas\" section for inspiration.\n",
    "- Identify the information you'd like to scrape from the site. Decide the format of the output CSV file.\n",
    "- Summarize your project idea and outline your strategy in a Juptyer notebook. Use the \"New\" button above."
   ]
  },
  {
   "cell_type": "markdown",
   "id": "dbfa5352",
   "metadata": {},
   "source": [
    "### Outline\n",
    "- Scrape through https://github.com/topics\n",
    "- Get a list of all topics on the first page. For each topic, fetch topic title, topic description and topic url\n",
    "- Get a list of all the repositories on each topic page. For each repository, fetch repository name, owner name, stars and repository url\n",
    "- Create a CSV file of all the topics info collected\n",
    "- Create a CSV file of all repositories info collected for each topic like the following :-\n",
    "---\n",
    "Repository Name,Userame,Stars,URL\n",
    "\n",
    "three.js,mrdoob,72500,https://github.com/mrdoob/three.js\n",
    "\n",
    "libgdx,libgdx,18600,https://github.com/libgdx/libgdx\n",
    "\n",
    "---"
   ]
  },
  {
   "cell_type": "markdown",
   "id": "4b7fb8f5",
   "metadata": {},
   "source": [
    "###  Use the requests library to download webpages"
   ]
  },
  {
   "cell_type": "code",
   "execution_count": 1,
   "id": "5a9f5196",
   "metadata": {
    "scrolled": true
   },
   "outputs": [],
   "source": [
    "#Install the requests library\n",
    "!pip install requests --upgrade --quiet"
   ]
  },
  {
   "cell_type": "code",
   "execution_count": 2,
   "id": "63459323",
   "metadata": {},
   "outputs": [],
   "source": [
    "import requests"
   ]
  },
  {
   "cell_type": "code",
   "execution_count": 3,
   "id": "e34b6021",
   "metadata": {},
   "outputs": [],
   "source": [
    "topics_url=\"https://github.com/topics\""
   ]
  },
  {
   "cell_type": "code",
   "execution_count": 4,
   "id": "1adc7454",
   "metadata": {},
   "outputs": [],
   "source": [
    "response=requests.get(\"https://github.com/topics\")"
   ]
  },
  {
   "cell_type": "code",
   "execution_count": 5,
   "id": "a91866f8",
   "metadata": {},
   "outputs": [
    {
     "name": "stdout",
     "output_type": "stream",
     "text": [
      "200\n"
     ]
    }
   ],
   "source": [
    "# Checking wheather the requests method is succesful or not. 200 implies success.\n",
    "print(response.status_code)"
   ]
  },
  {
   "cell_type": "code",
   "execution_count": 6,
   "id": "a182f3e3",
   "metadata": {},
   "outputs": [
    {
     "data": {
      "text/plain": [
       "130773"
      ]
     },
     "execution_count": 6,
     "metadata": {},
     "output_type": "execute_result"
    }
   ],
   "source": [
    "len(response.text)"
   ]
  },
  {
   "cell_type": "code",
   "execution_count": 7,
   "id": "0d81320d",
   "metadata": {},
   "outputs": [
    {
     "data": {
      "text/plain": [
       "'\\n\\n<!DOCTYPE html>\\n<html lang=\"en\" data-color-mode=\"auto\" data-light-theme=\"light\" data-dark-theme=\"dark\">\\n  <head>\\n    <meta charset=\"utf-8\">\\n  <link rel=\"dns-prefetch\" href=\"https://github.githubassets.com\">\\n  <link rel=\"dns-prefetch\" href=\"https://avatars.githubusercontent.com\">\\n  <link rel=\"dns-prefetch\" href=\"https://github-cloud.s3.amazonaws.com\">\\n  <link rel=\"dns-prefetch\" href=\"https://user-images.githubusercontent.com/\">\\n\\n\\n\\n  <link crossorigin=\"anonymous\" media=\"all\" integrity=\"sha512-J/5cWm5rrVuxkSgldaK1emf5j30Bs5mRgu0uhuHrG+iwf9mD2LOrkQ32SyN5PADLWzkSDxLS3bW/ScsiM44wzw==\" rel=\"stylesheet\" href=\"https://github.githubassets.com/assets/frameworks-27fe5c5a6e6bad5bb191282575a2b57a.css\" />\\n  \\n    <link crossorigin=\"anonymous\" media=\"all\" integrity=\"sha512-W0Cb3tYIxIb58LtOmiY++k5siW1IkzkqaHOXMJpsrZBWMGoaw8M3r5f7RRxa1heGJEDanaTJmAqCJUoMytKNxA==\" rel=\"stylesheet\" href=\"https://github.githubassets.com/assets/behaviors-5b409bded608c486f9f0bb4e9a263efa.css\" />\\n    \\n    \\n    \\n    <link cro'"
      ]
     },
     "execution_count": 7,
     "metadata": {},
     "output_type": "execute_result"
    }
   ],
   "source": [
    "response.text[:1000]"
   ]
  },
  {
   "cell_type": "code",
   "execution_count": 8,
   "id": "00a64b30",
   "metadata": {},
   "outputs": [],
   "source": [
    "#Saving the html file of the topics page\n",
    "with open(\"topics.html\", \"w\", encoding=\"utf-8\") as f:\n",
    "    f.write(response.text)"
   ]
  },
  {
   "cell_type": "markdown",
   "id": "5a642e02",
   "metadata": {},
   "source": [
    "### Use BeautifulSoup to parse the HTML code and extract information"
   ]
  },
  {
   "cell_type": "code",
   "execution_count": 9,
   "id": "1572cc09",
   "metadata": {},
   "outputs": [],
   "source": [
    "#Install the BeatifulSoup library\n",
    "!pip install beautifulsoup4 --upgrade --quiet"
   ]
  },
  {
   "cell_type": "code",
   "execution_count": 10,
   "id": "16594ee3",
   "metadata": {},
   "outputs": [],
   "source": [
    "from bs4 import BeautifulSoup"
   ]
  },
  {
   "cell_type": "code",
   "execution_count": 11,
   "id": "31e67a29",
   "metadata": {},
   "outputs": [],
   "source": [
    "# Parsing the response.text in HTML format and storing in the \"soup\" object\n",
    "soup=BeautifulSoup(response.text, \"html.parser\")"
   ]
  },
  {
   "cell_type": "code",
   "execution_count": 12,
   "id": "3904e9db",
   "metadata": {},
   "outputs": [
    {
     "data": {
      "text/plain": [
       "30"
      ]
     },
     "execution_count": 12,
     "metadata": {},
     "output_type": "execute_result"
    }
   ],
   "source": [
    "#Searching all the tags containing topic titles\n",
    "topics_title_tags=soup.find_all(\"p\", class_=\"f3 lh-condensed mb-0 mt-1 Link--primary\")\n",
    "len(topics_title_tags)"
   ]
  },
  {
   "cell_type": "code",
   "execution_count": 13,
   "id": "2d34d444",
   "metadata": {},
   "outputs": [
    {
     "data": {
      "text/plain": [
       "[<p class=\"f3 lh-condensed mb-0 mt-1 Link--primary\">3D</p>,\n",
       " <p class=\"f3 lh-condensed mb-0 mt-1 Link--primary\">Ajax</p>,\n",
       " <p class=\"f3 lh-condensed mb-0 mt-1 Link--primary\">Algorithm</p>,\n",
       " <p class=\"f3 lh-condensed mb-0 mt-1 Link--primary\">Amp</p>,\n",
       " <p class=\"f3 lh-condensed mb-0 mt-1 Link--primary\">Android</p>]"
      ]
     },
     "execution_count": 13,
     "metadata": {},
     "output_type": "execute_result"
    }
   ],
   "source": [
    "topics_title_tags[:5]"
   ]
  },
  {
   "cell_type": "code",
   "execution_count": 14,
   "id": "4e6715e3",
   "metadata": {},
   "outputs": [
    {
     "data": {
      "text/plain": [
       "['3D', 'Ajax', 'Algorithm', 'Amp', 'Android']"
      ]
     },
     "execution_count": 14,
     "metadata": {},
     "output_type": "execute_result"
    }
   ],
   "source": [
    "#Collecting the topic titles in a list\n",
    "topics_title=list()\n",
    "for tag in topics_title_tags:\n",
    "    topics_title.append(tag.text)\n",
    "\n",
    "topics_title[:5]"
   ]
  },
  {
   "cell_type": "code",
   "execution_count": 15,
   "id": "c83b11e3",
   "metadata": {},
   "outputs": [
    {
     "data": {
      "text/plain": [
       "30"
      ]
     },
     "execution_count": 15,
     "metadata": {},
     "output_type": "execute_result"
    }
   ],
   "source": [
    "#Searching all the tags containing topics desriptions\n",
    "topics_desc_tags=soup.find_all(\"p\", class_=\"f5 color-text-secondary mb-0 mt-1\")\n",
    "len(topics_desc_tags)"
   ]
  },
  {
   "cell_type": "code",
   "execution_count": 16,
   "id": "e94eea26",
   "metadata": {
    "scrolled": true
   },
   "outputs": [
    {
     "data": {
      "text/plain": [
       "[<p class=\"f5 color-text-secondary mb-0 mt-1\">\n",
       "               3D modeling is the process of virtually developing the surface and structure of a 3D object.\n",
       "             </p>,\n",
       " <p class=\"f5 color-text-secondary mb-0 mt-1\">\n",
       "               Ajax is a technique for creating interactive web applications.\n",
       "             </p>,\n",
       " <p class=\"f5 color-text-secondary mb-0 mt-1\">\n",
       "               Algorithms are self-contained sequences that carry out a variety of tasks.\n",
       "             </p>,\n",
       " <p class=\"f5 color-text-secondary mb-0 mt-1\">\n",
       "               Amp is a non-blocking concurrency framework for PHP.\n",
       "             </p>,\n",
       " <p class=\"f5 color-text-secondary mb-0 mt-1\">\n",
       "               Android is an operating system built by Google designed for mobile devices.\n",
       "             </p>]"
      ]
     },
     "execution_count": 16,
     "metadata": {},
     "output_type": "execute_result"
    }
   ],
   "source": [
    "topics_desc_tags[:5]"
   ]
  },
  {
   "cell_type": "code",
   "execution_count": 17,
   "id": "5eae06d7",
   "metadata": {},
   "outputs": [
    {
     "data": {
      "text/plain": [
       "['3D modeling is the process of virtually developing the surface and structure of a 3D object.',\n",
       " 'Ajax is a technique for creating interactive web applications.',\n",
       " 'Algorithms are self-contained sequences that carry out a variety of tasks.',\n",
       " 'Amp is a non-blocking concurrency framework for PHP.',\n",
       " 'Android is an operating system built by Google designed for mobile devices.']"
      ]
     },
     "execution_count": 17,
     "metadata": {},
     "output_type": "execute_result"
    }
   ],
   "source": [
    "#Collecting the topic descriptins in a list\n",
    "topics_desc=list()\n",
    "for tag in topics_desc_tags:\n",
    "    topics_desc.append(tag.text.strip())\n",
    "\n",
    "topics_desc[:5]"
   ]
  },
  {
   "cell_type": "code",
   "execution_count": 18,
   "id": "11ff9a50",
   "metadata": {},
   "outputs": [
    {
     "data": {
      "text/plain": [
       "30"
      ]
     },
     "execution_count": 18,
     "metadata": {},
     "output_type": "execute_result"
    }
   ],
   "source": [
    "#Searching all the tags containing topics URLs\n",
    "topics_url_tags=soup.find_all(\"a\", class_=\"d-flex no-underline\")\n",
    "len(topics_url_tags)"
   ]
  },
  {
   "cell_type": "code",
   "execution_count": 19,
   "id": "013a5ad3",
   "metadata": {},
   "outputs": [
    {
     "data": {
      "text/plain": [
       "<a class=\"d-flex no-underline\" data-ga-click=\"Explore, go to 3d, location:All featured topics\" href=\"/topics/3d\">\n",
       "<div class=\"color-bg-info f4 color-text-tertiary text-bold rounded mr-3 flex-shrink-0 text-center\" style=\"width:64px; height:64px; line-height:64px;\">\n",
       "            #\n",
       "          </div>\n",
       "<div class=\"d-sm-flex flex-auto\">\n",
       "<div class=\"flex-auto\">\n",
       "<p class=\"f3 lh-condensed mb-0 mt-1 Link--primary\">3D</p>\n",
       "<p class=\"f5 color-text-secondary mb-0 mt-1\">\n",
       "              3D modeling is the process of virtually developing the surface and structure of a 3D object.\n",
       "            </p>\n",
       "</div>\n",
       "<div class=\"d-inline-block js-toggler-container starring-container\">\n",
       "<a aria-label=\"You must be signed in to star a topic\" class=\"btn btn-sm d-flex flex-items-center\" data-ga-click=\"Explore, click star button when signed out,\n",
       "        action:topics#index;\n",
       "        text:Star\" href=\"/login?return_to=%2Ftopics%2F3d\" title=\"You must be signed in to star a topic\">\n",
       "<svg aria-hidden=\"true\" class=\"octicon octicon-star mr-1\" height=\"16\" version=\"1.1\" viewbox=\"0 0 16 16\" width=\"16\"><path d=\"M8 .25a.75.75 0 01.673.418l1.882 3.815 4.21.612a.75.75 0 01.416 1.279l-3.046 2.97.719 4.192a.75.75 0 01-1.088.791L8 12.347l-3.766 1.98a.75.75 0 01-1.088-.79l.72-4.194L.818 6.374a.75.75 0 01.416-1.28l4.21-.611L7.327.668A.75.75 0 018 .25zm0 2.445L6.615 5.5a.75.75 0 01-.564.41l-3.097.45 2.24 2.184a.75.75 0 01.216.664l-.528 3.084 2.769-1.456a.75.75 0 01.698 0l2.77 1.456-.53-3.084a.75.75 0 01.216-.664l2.24-2.183-3.096-.45a.75.75 0 01-.564-.41L8 2.694v.001z\" fill-rule=\"evenodd\"></path></svg>Star\n",
       "    </a>\n",
       "</div>\n",
       "</div>\n",
       "</a>"
      ]
     },
     "execution_count": 19,
     "metadata": {},
     "output_type": "execute_result"
    }
   ],
   "source": [
    "topics_url_tags[0]"
   ]
  },
  {
   "cell_type": "code",
   "execution_count": 20,
   "id": "21f85491",
   "metadata": {},
   "outputs": [
    {
     "data": {
      "text/plain": [
       "['https://github.com/topics/3d',\n",
       " 'https://github.com/topics/ajax',\n",
       " 'https://github.com/topics/algorithm',\n",
       " 'https://github.com/topics/amphp',\n",
       " 'https://github.com/topics/android']"
      ]
     },
     "execution_count": 20,
     "metadata": {},
     "output_type": "execute_result"
    }
   ],
   "source": [
    "#Collecting the topic URLs in a list\n",
    "topics_url=list()\n",
    "base_url=\"https://github.com\"\n",
    "for tag in topics_url_tags:\n",
    "    topic_url=base_url+tag.get(\"href\")\n",
    "    topics_url.append(topic_url)\n",
    "\n",
    "topics_url[:5]"
   ]
  },
  {
   "cell_type": "markdown",
   "id": "9c342352",
   "metadata": {},
   "source": [
    "### Create a CSV file of the extracted information"
   ]
  },
  {
   "cell_type": "code",
   "execution_count": 21,
   "id": "0adc6ab8",
   "metadata": {},
   "outputs": [],
   "source": [
    "#Install the pandas library\n",
    "!pip install pandas --upgrade --quiet"
   ]
  },
  {
   "cell_type": "code",
   "execution_count": 22,
   "id": "c8d7120a",
   "metadata": {},
   "outputs": [],
   "source": [
    "import pandas as pd"
   ]
  },
  {
   "cell_type": "code",
   "execution_count": 23,
   "id": "5c3e343f",
   "metadata": {},
   "outputs": [
    {
     "data": {
      "text/html": [
       "<div>\n",
       "<style scoped>\n",
       "    .dataframe tbody tr th:only-of-type {\n",
       "        vertical-align: middle;\n",
       "    }\n",
       "\n",
       "    .dataframe tbody tr th {\n",
       "        vertical-align: top;\n",
       "    }\n",
       "\n",
       "    .dataframe thead th {\n",
       "        text-align: right;\n",
       "    }\n",
       "</style>\n",
       "<table border=\"1\" class=\"dataframe\">\n",
       "  <thead>\n",
       "    <tr style=\"text-align: right;\">\n",
       "      <th></th>\n",
       "      <th>Title</th>\n",
       "      <th>Description</th>\n",
       "      <th>URL</th>\n",
       "    </tr>\n",
       "  </thead>\n",
       "  <tbody>\n",
       "    <tr>\n",
       "      <th>0</th>\n",
       "      <td>3D</td>\n",
       "      <td>3D modeling is the process of virtually develo...</td>\n",
       "      <td>https://github.com/topics/3d</td>\n",
       "    </tr>\n",
       "    <tr>\n",
       "      <th>1</th>\n",
       "      <td>Ajax</td>\n",
       "      <td>Ajax is a technique for creating interactive w...</td>\n",
       "      <td>https://github.com/topics/ajax</td>\n",
       "    </tr>\n",
       "    <tr>\n",
       "      <th>2</th>\n",
       "      <td>Algorithm</td>\n",
       "      <td>Algorithms are self-contained sequences that c...</td>\n",
       "      <td>https://github.com/topics/algorithm</td>\n",
       "    </tr>\n",
       "    <tr>\n",
       "      <th>3</th>\n",
       "      <td>Amp</td>\n",
       "      <td>Amp is a non-blocking concurrency framework fo...</td>\n",
       "      <td>https://github.com/topics/amphp</td>\n",
       "    </tr>\n",
       "    <tr>\n",
       "      <th>4</th>\n",
       "      <td>Android</td>\n",
       "      <td>Android is an operating system built by Google...</td>\n",
       "      <td>https://github.com/topics/android</td>\n",
       "    </tr>\n",
       "    <tr>\n",
       "      <th>5</th>\n",
       "      <td>Angular</td>\n",
       "      <td>Angular is an open source web application plat...</td>\n",
       "      <td>https://github.com/topics/angular</td>\n",
       "    </tr>\n",
       "    <tr>\n",
       "      <th>6</th>\n",
       "      <td>Ansible</td>\n",
       "      <td>Ansible is a simple and powerful automation en...</td>\n",
       "      <td>https://github.com/topics/ansible</td>\n",
       "    </tr>\n",
       "    <tr>\n",
       "      <th>7</th>\n",
       "      <td>API</td>\n",
       "      <td>An API (Application Programming Interface) is ...</td>\n",
       "      <td>https://github.com/topics/api</td>\n",
       "    </tr>\n",
       "    <tr>\n",
       "      <th>8</th>\n",
       "      <td>Arduino</td>\n",
       "      <td>Arduino is an open source hardware and softwar...</td>\n",
       "      <td>https://github.com/topics/arduino</td>\n",
       "    </tr>\n",
       "    <tr>\n",
       "      <th>9</th>\n",
       "      <td>ASP.NET</td>\n",
       "      <td>ASP.NET is a web framework for building modern...</td>\n",
       "      <td>https://github.com/topics/aspnet</td>\n",
       "    </tr>\n",
       "    <tr>\n",
       "      <th>10</th>\n",
       "      <td>Atom</td>\n",
       "      <td>Atom is a open source text editor built with w...</td>\n",
       "      <td>https://github.com/topics/atom</td>\n",
       "    </tr>\n",
       "    <tr>\n",
       "      <th>11</th>\n",
       "      <td>Awesome Lists</td>\n",
       "      <td>An awesome list is a list of awesome things cu...</td>\n",
       "      <td>https://github.com/topics/awesome</td>\n",
       "    </tr>\n",
       "    <tr>\n",
       "      <th>12</th>\n",
       "      <td>Amazon Web Services</td>\n",
       "      <td>Amazon Web Services provides on-demand cloud c...</td>\n",
       "      <td>https://github.com/topics/aws</td>\n",
       "    </tr>\n",
       "    <tr>\n",
       "      <th>13</th>\n",
       "      <td>Azure</td>\n",
       "      <td>Azure is a cloud computing service created by ...</td>\n",
       "      <td>https://github.com/topics/azure</td>\n",
       "    </tr>\n",
       "    <tr>\n",
       "      <th>14</th>\n",
       "      <td>Babel</td>\n",
       "      <td>Babel is a compiler for writing next generatio...</td>\n",
       "      <td>https://github.com/topics/babel</td>\n",
       "    </tr>\n",
       "    <tr>\n",
       "      <th>15</th>\n",
       "      <td>Bash</td>\n",
       "      <td>Bash is a shell and command language interpret...</td>\n",
       "      <td>https://github.com/topics/bash</td>\n",
       "    </tr>\n",
       "    <tr>\n",
       "      <th>16</th>\n",
       "      <td>Bitcoin</td>\n",
       "      <td>Bitcoin is a cryptocurrency developed by Satos...</td>\n",
       "      <td>https://github.com/topics/bitcoin</td>\n",
       "    </tr>\n",
       "    <tr>\n",
       "      <th>17</th>\n",
       "      <td>Bootstrap</td>\n",
       "      <td>Bootstrap is an HTML, CSS, and JavaScript fram...</td>\n",
       "      <td>https://github.com/topics/bootstrap</td>\n",
       "    </tr>\n",
       "    <tr>\n",
       "      <th>18</th>\n",
       "      <td>Bot</td>\n",
       "      <td>A bot is an application that runs automated ta...</td>\n",
       "      <td>https://github.com/topics/bot</td>\n",
       "    </tr>\n",
       "    <tr>\n",
       "      <th>19</th>\n",
       "      <td>C</td>\n",
       "      <td>C is a general purpose programming language th...</td>\n",
       "      <td>https://github.com/topics/c</td>\n",
       "    </tr>\n",
       "    <tr>\n",
       "      <th>20</th>\n",
       "      <td>Chrome</td>\n",
       "      <td>Chrome is a web browser from the tech company ...</td>\n",
       "      <td>https://github.com/topics/chrome</td>\n",
       "    </tr>\n",
       "    <tr>\n",
       "      <th>21</th>\n",
       "      <td>Chrome extension</td>\n",
       "      <td>Google Chrome Extensions are add-ons that allo...</td>\n",
       "      <td>https://github.com/topics/chrome-extension</td>\n",
       "    </tr>\n",
       "    <tr>\n",
       "      <th>22</th>\n",
       "      <td>Command line interface</td>\n",
       "      <td>A CLI, or command-line interface, is a console...</td>\n",
       "      <td>https://github.com/topics/cli</td>\n",
       "    </tr>\n",
       "    <tr>\n",
       "      <th>23</th>\n",
       "      <td>Clojure</td>\n",
       "      <td>Clojure is a dynamic, general-purpose programm...</td>\n",
       "      <td>https://github.com/topics/clojure</td>\n",
       "    </tr>\n",
       "    <tr>\n",
       "      <th>24</th>\n",
       "      <td>Code quality</td>\n",
       "      <td>Automate your code review with style, quality,...</td>\n",
       "      <td>https://github.com/topics/code-quality</td>\n",
       "    </tr>\n",
       "    <tr>\n",
       "      <th>25</th>\n",
       "      <td>Code review</td>\n",
       "      <td>Ensure your code meets quality standards and s...</td>\n",
       "      <td>https://github.com/topics/code-review</td>\n",
       "    </tr>\n",
       "    <tr>\n",
       "      <th>26</th>\n",
       "      <td>Compiler</td>\n",
       "      <td>Compilers are software that translate higher-l...</td>\n",
       "      <td>https://github.com/topics/compiler</td>\n",
       "    </tr>\n",
       "    <tr>\n",
       "      <th>27</th>\n",
       "      <td>Continuous integration</td>\n",
       "      <td>Automatically build and test your code as you ...</td>\n",
       "      <td>https://github.com/topics/continuous-integration</td>\n",
       "    </tr>\n",
       "    <tr>\n",
       "      <th>28</th>\n",
       "      <td>COVID-19</td>\n",
       "      <td>The coronavirus disease 2019 (COVID-19) is an ...</td>\n",
       "      <td>https://github.com/topics/covid-19</td>\n",
       "    </tr>\n",
       "    <tr>\n",
       "      <th>29</th>\n",
       "      <td>C++</td>\n",
       "      <td>C++ is a general purpose and object-oriented p...</td>\n",
       "      <td>https://github.com/topics/cpp</td>\n",
       "    </tr>\n",
       "  </tbody>\n",
       "</table>\n",
       "</div>"
      ],
      "text/plain": [
       "                     Title                                        Description  \\\n",
       "0                       3D  3D modeling is the process of virtually develo...   \n",
       "1                     Ajax  Ajax is a technique for creating interactive w...   \n",
       "2                Algorithm  Algorithms are self-contained sequences that c...   \n",
       "3                      Amp  Amp is a non-blocking concurrency framework fo...   \n",
       "4                  Android  Android is an operating system built by Google...   \n",
       "5                  Angular  Angular is an open source web application plat...   \n",
       "6                  Ansible  Ansible is a simple and powerful automation en...   \n",
       "7                      API  An API (Application Programming Interface) is ...   \n",
       "8                  Arduino  Arduino is an open source hardware and softwar...   \n",
       "9                  ASP.NET  ASP.NET is a web framework for building modern...   \n",
       "10                    Atom  Atom is a open source text editor built with w...   \n",
       "11           Awesome Lists  An awesome list is a list of awesome things cu...   \n",
       "12     Amazon Web Services  Amazon Web Services provides on-demand cloud c...   \n",
       "13                   Azure  Azure is a cloud computing service created by ...   \n",
       "14                   Babel  Babel is a compiler for writing next generatio...   \n",
       "15                    Bash  Bash is a shell and command language interpret...   \n",
       "16                 Bitcoin  Bitcoin is a cryptocurrency developed by Satos...   \n",
       "17               Bootstrap  Bootstrap is an HTML, CSS, and JavaScript fram...   \n",
       "18                     Bot  A bot is an application that runs automated ta...   \n",
       "19                       C  C is a general purpose programming language th...   \n",
       "20                  Chrome  Chrome is a web browser from the tech company ...   \n",
       "21        Chrome extension  Google Chrome Extensions are add-ons that allo...   \n",
       "22  Command line interface  A CLI, or command-line interface, is a console...   \n",
       "23                 Clojure  Clojure is a dynamic, general-purpose programm...   \n",
       "24            Code quality  Automate your code review with style, quality,...   \n",
       "25             Code review  Ensure your code meets quality standards and s...   \n",
       "26                Compiler  Compilers are software that translate higher-l...   \n",
       "27  Continuous integration  Automatically build and test your code as you ...   \n",
       "28                COVID-19  The coronavirus disease 2019 (COVID-19) is an ...   \n",
       "29                     C++  C++ is a general purpose and object-oriented p...   \n",
       "\n",
       "                                                 URL  \n",
       "0                       https://github.com/topics/3d  \n",
       "1                     https://github.com/topics/ajax  \n",
       "2                https://github.com/topics/algorithm  \n",
       "3                    https://github.com/topics/amphp  \n",
       "4                  https://github.com/topics/android  \n",
       "5                  https://github.com/topics/angular  \n",
       "6                  https://github.com/topics/ansible  \n",
       "7                      https://github.com/topics/api  \n",
       "8                  https://github.com/topics/arduino  \n",
       "9                   https://github.com/topics/aspnet  \n",
       "10                    https://github.com/topics/atom  \n",
       "11                 https://github.com/topics/awesome  \n",
       "12                     https://github.com/topics/aws  \n",
       "13                   https://github.com/topics/azure  \n",
       "14                   https://github.com/topics/babel  \n",
       "15                    https://github.com/topics/bash  \n",
       "16                 https://github.com/topics/bitcoin  \n",
       "17               https://github.com/topics/bootstrap  \n",
       "18                     https://github.com/topics/bot  \n",
       "19                       https://github.com/topics/c  \n",
       "20                  https://github.com/topics/chrome  \n",
       "21        https://github.com/topics/chrome-extension  \n",
       "22                     https://github.com/topics/cli  \n",
       "23                 https://github.com/topics/clojure  \n",
       "24            https://github.com/topics/code-quality  \n",
       "25             https://github.com/topics/code-review  \n",
       "26                https://github.com/topics/compiler  \n",
       "27  https://github.com/topics/continuous-integration  \n",
       "28                https://github.com/topics/covid-19  \n",
       "29                     https://github.com/topics/cpp  "
      ]
     },
     "execution_count": 23,
     "metadata": {},
     "output_type": "execute_result"
    }
   ],
   "source": [
    "#Creating a table of topics\n",
    "topics_dict={\"Title\":topics_title, \"Description\":topics_desc, \"URL\":topics_url}\n",
    "topics_df=pd.DataFrame(topics_dict)\n",
    "topics_df"
   ]
  },
  {
   "cell_type": "code",
   "execution_count": 24,
   "id": "98094079",
   "metadata": {},
   "outputs": [],
   "source": [
    "#Saving the table in a CSV file\n",
    "topics_df.to_csv('Topics.csv', index=None)"
   ]
  },
  {
   "cell_type": "markdown",
   "id": "24401707",
   "metadata": {},
   "source": [
    "## Getting information from each topic page"
   ]
  },
  {
   "cell_type": "code",
   "execution_count": 25,
   "id": "2c408557",
   "metadata": {},
   "outputs": [
    {
     "data": {
      "text/plain": [
       "'https://github.com/topics/3d'"
      ]
     },
     "execution_count": 25,
     "metadata": {},
     "output_type": "execute_result"
    }
   ],
   "source": [
    "import requests\n",
    "topic_url_1=topics_url[0]\n",
    "topic_url_1"
   ]
  },
  {
   "cell_type": "code",
   "execution_count": 26,
   "id": "75776d41",
   "metadata": {},
   "outputs": [],
   "source": [
    "response=requests.get(topic_url_1)"
   ]
  },
  {
   "cell_type": "code",
   "execution_count": 27,
   "id": "a15ec0b3",
   "metadata": {},
   "outputs": [
    {
     "data": {
      "text/plain": [
       "200"
      ]
     },
     "execution_count": 27,
     "metadata": {},
     "output_type": "execute_result"
    }
   ],
   "source": [
    "response.status_code"
   ]
  },
  {
   "cell_type": "code",
   "execution_count": 28,
   "id": "1ee0cd65",
   "metadata": {},
   "outputs": [
    {
     "data": {
      "text/plain": [
       "614759"
      ]
     },
     "execution_count": 28,
     "metadata": {},
     "output_type": "execute_result"
    }
   ],
   "source": [
    "len(response.text)"
   ]
  },
  {
   "cell_type": "code",
   "execution_count": 29,
   "id": "333c5d14",
   "metadata": {},
   "outputs": [
    {
     "data": {
      "text/plain": [
       "'\\n\\n<!DOCTYPE html>\\n<html lang=\"en\" data-color-mode=\"auto\" data-light-theme=\"light\" data-dark-theme=\"dark\">\\n  <head>\\n    <meta charset=\"utf-8\">\\n  <link rel=\"dns-prefetch\" href=\"https://github.githubassets.com\">\\n  <link rel=\"dns-prefetch\" href=\"https://avatars.githubusercontent.com\">\\n  <link rel=\"dns-prefetch\" href=\"https://github-cloud.s3.amazonaws.com\">\\n  <link rel=\"dns-prefetch\" href=\"https://user-images.githubusercontent.com/\">\\n\\n\\n\\n  <link crossorigin=\"anonymous\" media=\"all\" integrity=\"sha512-J/5cWm5rrVuxkSgldaK1emf5j30Bs5mRgu0uhuHrG+iwf9mD2LOrkQ32SyN5PADLWzkSDxLS3bW/ScsiM44wzw==\" rel=\"stylesheet\" href=\"https://github.githubassets.com/assets/frameworks-27fe5c5a6e6bad5bb191282575a2b57a.css\" />\\n  \\n    <link crossorigin=\"anonymous\" media=\"all\" integrity=\"sha512-W0Cb3tYIxIb58LtOmiY++k5siW1IkzkqaHOXMJpsrZBWMGoaw8M3r5f7RRxa1heGJEDanaTJmAqCJUoMytKNxA==\" rel=\"stylesheet\" href=\"https://github.githubassets.com/assets/behaviors-5b409bded608c486f9f0bb4e9a263efa.css\" />\\n    \\n    \\n    \\n    <link cro'"
      ]
     },
     "execution_count": 29,
     "metadata": {},
     "output_type": "execute_result"
    }
   ],
   "source": [
    "response.text[:1000]"
   ]
  },
  {
   "cell_type": "code",
   "execution_count": 30,
   "id": "ff48b6e8",
   "metadata": {},
   "outputs": [],
   "source": [
    "#Saving the html file of the topic_1 page\n",
    "with open(\"topic_1.html\", \"w\", encoding=\"utf-8\") as f:\n",
    "    f.write(response.text)"
   ]
  },
  {
   "cell_type": "code",
   "execution_count": 31,
   "id": "e3df2851",
   "metadata": {},
   "outputs": [],
   "source": [
    "# Parsing the response.text in HTML format and storing in the \"soup\" object\n",
    "soup=BeautifulSoup(response.text, \"html.parser\")"
   ]
  },
  {
   "cell_type": "markdown",
   "id": "a8a3cdcb",
   "metadata": {},
   "source": [
    "### Collecting repository name, username, and links to the repository "
   ]
  },
  {
   "cell_type": "code",
   "execution_count": 32,
   "id": "f48b8007",
   "metadata": {},
   "outputs": [
    {
     "data": {
      "text/plain": [
       "30"
      ]
     },
     "execution_count": 32,
     "metadata": {},
     "output_type": "execute_result"
    }
   ],
   "source": [
    "# Searching for all the tags containing repository information\n",
    "repo_tags=soup.find_all(\"h3\", class_=\"f3 color-text-secondary text-normal lh-condensed\")\n",
    "len(repo_tags)"
   ]
  },
  {
   "cell_type": "code",
   "execution_count": 33,
   "id": "d47e42f9",
   "metadata": {},
   "outputs": [
    {
     "data": {
      "text/plain": [
       "<h3 class=\"f3 color-text-secondary text-normal lh-condensed\">\n",
       "<a data-ga-click=\"Explore, go to repository owner, location:explore feed\" data-hydro-click='{\"event_type\":\"explore.click\",\"payload\":{\"click_context\":\"REPOSITORY_CARD\",\"click_target\":\"OWNER\",\"click_visual_representation\":\"REPOSITORY_OWNER_HEADING\",\"actor_id\":null,\"record_id\":97088,\"originating_url\":\"https://github.com/topics/3d\",\"user_id\":null}}' data-hydro-click-hmac=\"4bdbc49d3c05ae7f70b531fbce709a384200b0768554e0172950286a8db30940\" data-view-component=\"true\" href=\"/mrdoob\">\n",
       "            mrdoob\n",
       "</a>          /\n",
       "          <a class=\"text-bold\" data-ga-click=\"Explore, go to repository, location:explore feed\" data-hydro-click='{\"event_type\":\"explore.click\",\"payload\":{\"click_context\":\"REPOSITORY_CARD\",\"click_target\":\"REPOSITORY\",\"click_visual_representation\":\"REPOSITORY_NAME_HEADING\",\"actor_id\":null,\"record_id\":576201,\"originating_url\":\"https://github.com/topics/3d\",\"user_id\":null}}' data-hydro-click-hmac=\"517d3d5cb9d89752156923904a4238816bc9b51ab7772f3e3644ce897d8dd4e5\" data-view-component=\"true\" href=\"/mrdoob/three.js\">\n",
       "            three.js\n",
       "</a> </h3>"
      ]
     },
     "execution_count": 33,
     "metadata": {},
     "output_type": "execute_result"
    }
   ],
   "source": [
    "repo_tags[0]"
   ]
  },
  {
   "cell_type": "code",
   "execution_count": 34,
   "id": "3167dd75",
   "metadata": {},
   "outputs": [],
   "source": [
    "#Creating a list of all the usernames\n",
    "usernames=list()\n",
    "for tag in repo_tags:\n",
    "    usernames.append(tag.find_all(\"a\")[0].text.strip())"
   ]
  },
  {
   "cell_type": "code",
   "execution_count": 35,
   "id": "461ec1bc",
   "metadata": {},
   "outputs": [
    {
     "data": {
      "text/plain": [
       "['mrdoob', 'libgdx', 'BabylonJS', 'pmndrs', 'aframevr']"
      ]
     },
     "execution_count": 35,
     "metadata": {},
     "output_type": "execute_result"
    }
   ],
   "source": [
    "usernames[:5]"
   ]
  },
  {
   "cell_type": "code",
   "execution_count": 36,
   "id": "cf50a0f0",
   "metadata": {},
   "outputs": [],
   "source": [
    "#Creating a list of all the repository names\n",
    "repo_names=list()\n",
    "for tag in repo_tags:\n",
    "    repo_names.append(tag.find_all(\"a\")[1].text.strip())"
   ]
  },
  {
   "cell_type": "code",
   "execution_count": 37,
   "id": "66cd89af",
   "metadata": {},
   "outputs": [
    {
     "data": {
      "text/plain": [
       "['three.js', 'libgdx', 'Babylon.js', 'react-three-fiber', 'aframe']"
      ]
     },
     "execution_count": 37,
     "metadata": {},
     "output_type": "execute_result"
    }
   ],
   "source": [
    "repo_names[:5]"
   ]
  },
  {
   "cell_type": "code",
   "execution_count": 38,
   "id": "7d39118a",
   "metadata": {},
   "outputs": [],
   "source": [
    "#Creating a list of all the repository URLs\n",
    "repo_urls=list()\n",
    "base_url=\"https://github.com\"\n",
    "for tag in repo_tags:\n",
    "    repo_url=base_url+tag.find_all(\"a\")[1].get(\"href\")\n",
    "    repo_urls.append(repo_url)"
   ]
  },
  {
   "cell_type": "code",
   "execution_count": 39,
   "id": "cabe974d",
   "metadata": {},
   "outputs": [
    {
     "data": {
      "text/plain": [
       "['https://github.com/mrdoob/three.js',\n",
       " 'https://github.com/libgdx/libgdx',\n",
       " 'https://github.com/BabylonJS/Babylon.js',\n",
       " 'https://github.com/pmndrs/react-three-fiber',\n",
       " 'https://github.com/aframevr/aframe']"
      ]
     },
     "execution_count": 39,
     "metadata": {},
     "output_type": "execute_result"
    }
   ],
   "source": [
    "repo_urls[:5]"
   ]
  },
  {
   "cell_type": "markdown",
   "id": "902f2d8f",
   "metadata": {},
   "source": [
    "### Collecting repositary stars"
   ]
  },
  {
   "cell_type": "code",
   "execution_count": 40,
   "id": "e0de44b0",
   "metadata": {},
   "outputs": [
    {
     "data": {
      "text/plain": [
       "30"
      ]
     },
     "execution_count": 40,
     "metadata": {},
     "output_type": "execute_result"
    }
   ],
   "source": [
    "# Searching for all the tags containing repositary stars\n",
    "star_tags=soup.find_all(\"a\", class_=\"social-count float-none\")\n",
    "len(star_tags)"
   ]
  },
  {
   "cell_type": "code",
   "execution_count": 41,
   "id": "5cbb3daa",
   "metadata": {},
   "outputs": [],
   "source": [
    "#Collecting all the text in star tags\n",
    "star_str=list()\n",
    "for tag in star_tags:\n",
    "    star_str.append(tag.text.strip())"
   ]
  },
  {
   "cell_type": "code",
   "execution_count": 42,
   "id": "100d5ab5",
   "metadata": {},
   "outputs": [
    {
     "data": {
      "text/plain": [
       "['72.7k', '18.6k', '14.4k', '14k', '12.9k']"
      ]
     },
     "execution_count": 42,
     "metadata": {},
     "output_type": "execute_result"
    }
   ],
   "source": [
    "star_str[:5]"
   ]
  },
  {
   "cell_type": "code",
   "execution_count": 43,
   "id": "26aeabf5",
   "metadata": {},
   "outputs": [],
   "source": [
    "#Creating a function to convert the star values from string to integer value. For example, \"72.6k\" will convert to 72600.\n",
    "def convert(string):\n",
    "    string=string.strip()\n",
    "    if string[-1]==\"k\":\n",
    "        return int(float(string[:-1])*1000)\n",
    "    return int(string)"
   ]
  },
  {
   "cell_type": "code",
   "execution_count": 44,
   "id": "e6b89583",
   "metadata": {},
   "outputs": [],
   "source": [
    "#Creating a list of all the repository stars\n",
    "repo_stars=list()\n",
    "for star in star_str:\n",
    "    count=convert(star)\n",
    "    repo_stars.append(count)"
   ]
  },
  {
   "cell_type": "code",
   "execution_count": 45,
   "id": "ec8eb32e",
   "metadata": {},
   "outputs": [
    {
     "data": {
      "text/plain": [
       "[72700, 18600, 14400, 14000, 12900]"
      ]
     },
     "execution_count": 45,
     "metadata": {},
     "output_type": "execute_result"
    }
   ],
   "source": [
    "repo_stars[:5]"
   ]
  },
  {
   "cell_type": "markdown",
   "id": "bba1c671",
   "metadata": {},
   "source": [
    "### Create a CSV file of the extracted information"
   ]
  },
  {
   "cell_type": "code",
   "execution_count": 46,
   "id": "6a07a600",
   "metadata": {},
   "outputs": [
    {
     "data": {
      "text/html": [
       "<div>\n",
       "<style scoped>\n",
       "    .dataframe tbody tr th:only-of-type {\n",
       "        vertical-align: middle;\n",
       "    }\n",
       "\n",
       "    .dataframe tbody tr th {\n",
       "        vertical-align: top;\n",
       "    }\n",
       "\n",
       "    .dataframe thead th {\n",
       "        text-align: right;\n",
       "    }\n",
       "</style>\n",
       "<table border=\"1\" class=\"dataframe\">\n",
       "  <thead>\n",
       "    <tr style=\"text-align: right;\">\n",
       "      <th></th>\n",
       "      <th>Repository Name</th>\n",
       "      <th>Username</th>\n",
       "      <th>Stars</th>\n",
       "      <th>URL</th>\n",
       "    </tr>\n",
       "  </thead>\n",
       "  <tbody>\n",
       "    <tr>\n",
       "      <th>0</th>\n",
       "      <td>three.js</td>\n",
       "      <td>mrdoob</td>\n",
       "      <td>72700</td>\n",
       "      <td>https://github.com/mrdoob/three.js</td>\n",
       "    </tr>\n",
       "    <tr>\n",
       "      <th>1</th>\n",
       "      <td>libgdx</td>\n",
       "      <td>libgdx</td>\n",
       "      <td>18600</td>\n",
       "      <td>https://github.com/libgdx/libgdx</td>\n",
       "    </tr>\n",
       "    <tr>\n",
       "      <th>2</th>\n",
       "      <td>Babylon.js</td>\n",
       "      <td>BabylonJS</td>\n",
       "      <td>14400</td>\n",
       "      <td>https://github.com/BabylonJS/Babylon.js</td>\n",
       "    </tr>\n",
       "    <tr>\n",
       "      <th>3</th>\n",
       "      <td>react-three-fiber</td>\n",
       "      <td>pmndrs</td>\n",
       "      <td>14000</td>\n",
       "      <td>https://github.com/pmndrs/react-three-fiber</td>\n",
       "    </tr>\n",
       "    <tr>\n",
       "      <th>4</th>\n",
       "      <td>aframe</td>\n",
       "      <td>aframevr</td>\n",
       "      <td>12900</td>\n",
       "      <td>https://github.com/aframevr/aframe</td>\n",
       "    </tr>\n",
       "    <tr>\n",
       "      <th>5</th>\n",
       "      <td>tinyrenderer</td>\n",
       "      <td>ssloy</td>\n",
       "      <td>10900</td>\n",
       "      <td>https://github.com/ssloy/tinyrenderer</td>\n",
       "    </tr>\n",
       "    <tr>\n",
       "      <th>6</th>\n",
       "      <td>3d-game-shaders-for-beginners</td>\n",
       "      <td>lettier</td>\n",
       "      <td>10700</td>\n",
       "      <td>https://github.com/lettier/3d-game-shaders-for...</td>\n",
       "    </tr>\n",
       "    <tr>\n",
       "      <th>7</th>\n",
       "      <td>FreeCAD</td>\n",
       "      <td>FreeCAD</td>\n",
       "      <td>9600</td>\n",
       "      <td>https://github.com/FreeCAD/FreeCAD</td>\n",
       "    </tr>\n",
       "    <tr>\n",
       "      <th>8</th>\n",
       "      <td>zdog</td>\n",
       "      <td>metafizzy</td>\n",
       "      <td>8500</td>\n",
       "      <td>https://github.com/metafizzy/zdog</td>\n",
       "    </tr>\n",
       "    <tr>\n",
       "      <th>9</th>\n",
       "      <td>cesium</td>\n",
       "      <td>CesiumGS</td>\n",
       "      <td>7300</td>\n",
       "      <td>https://github.com/CesiumGS/cesium</td>\n",
       "    </tr>\n",
       "    <tr>\n",
       "      <th>10</th>\n",
       "      <td>SpaceshipGenerator</td>\n",
       "      <td>a1studmuffin</td>\n",
       "      <td>6800</td>\n",
       "      <td>https://github.com/a1studmuffin/SpaceshipGener...</td>\n",
       "    </tr>\n",
       "    <tr>\n",
       "      <th>11</th>\n",
       "      <td>3D-Machine-Learning</td>\n",
       "      <td>timzhang642</td>\n",
       "      <td>6800</td>\n",
       "      <td>https://github.com/timzhang642/3D-Machine-Lear...</td>\n",
       "    </tr>\n",
       "    <tr>\n",
       "      <th>12</th>\n",
       "      <td>Open3D</td>\n",
       "      <td>intel-isl</td>\n",
       "      <td>4800</td>\n",
       "      <td>https://github.com/intel-isl/Open3D</td>\n",
       "    </tr>\n",
       "    <tr>\n",
       "      <th>13</th>\n",
       "      <td>spritejs</td>\n",
       "      <td>spritejs</td>\n",
       "      <td>4500</td>\n",
       "      <td>https://github.com/spritejs/spritejs</td>\n",
       "    </tr>\n",
       "    <tr>\n",
       "      <th>14</th>\n",
       "      <td>tensorspace</td>\n",
       "      <td>tensorspace-team</td>\n",
       "      <td>4400</td>\n",
       "      <td>https://github.com/tensorspace-team/tensorspace</td>\n",
       "    </tr>\n",
       "    <tr>\n",
       "      <th>15</th>\n",
       "      <td>webglstudio.js</td>\n",
       "      <td>jagenjo</td>\n",
       "      <td>4400</td>\n",
       "      <td>https://github.com/jagenjo/webglstudio.js</td>\n",
       "    </tr>\n",
       "    <tr>\n",
       "      <th>16</th>\n",
       "      <td>vrn</td>\n",
       "      <td>AaronJackson</td>\n",
       "      <td>4400</td>\n",
       "      <td>https://github.com/AaronJackson/vrn</td>\n",
       "    </tr>\n",
       "    <tr>\n",
       "      <th>17</th>\n",
       "      <td>PRNet</td>\n",
       "      <td>YadiraF</td>\n",
       "      <td>4300</td>\n",
       "      <td>https://github.com/YadiraF/PRNet</td>\n",
       "    </tr>\n",
       "    <tr>\n",
       "      <th>18</th>\n",
       "      <td>openscad</td>\n",
       "      <td>openscad</td>\n",
       "      <td>4100</td>\n",
       "      <td>https://github.com/openscad/openscad</td>\n",
       "    </tr>\n",
       "    <tr>\n",
       "      <th>19</th>\n",
       "      <td>BlenderGIS</td>\n",
       "      <td>domlysz</td>\n",
       "      <td>4100</td>\n",
       "      <td>https://github.com/domlysz/BlenderGIS</td>\n",
       "    </tr>\n",
       "    <tr>\n",
       "      <th>20</th>\n",
       "      <td>tinyraytracer</td>\n",
       "      <td>ssloy</td>\n",
       "      <td>3800</td>\n",
       "      <td>https://github.com/ssloy/tinyraytracer</td>\n",
       "    </tr>\n",
       "    <tr>\n",
       "      <th>21</th>\n",
       "      <td>magnum</td>\n",
       "      <td>mosra</td>\n",
       "      <td>3500</td>\n",
       "      <td>https://github.com/mosra/magnum</td>\n",
       "    </tr>\n",
       "    <tr>\n",
       "      <th>22</th>\n",
       "      <td>model-viewer</td>\n",
       "      <td>google</td>\n",
       "      <td>3100</td>\n",
       "      <td>https://github.com/google/model-viewer</td>\n",
       "    </tr>\n",
       "    <tr>\n",
       "      <th>23</th>\n",
       "      <td>webgl-fundamentals</td>\n",
       "      <td>gfxfundamentals</td>\n",
       "      <td>3100</td>\n",
       "      <td>https://github.com/gfxfundamentals/webgl-funda...</td>\n",
       "    </tr>\n",
       "    <tr>\n",
       "      <th>24</th>\n",
       "      <td>3DDFA</td>\n",
       "      <td>cleardusk</td>\n",
       "      <td>3000</td>\n",
       "      <td>https://github.com/cleardusk/3DDFA</td>\n",
       "    </tr>\n",
       "    <tr>\n",
       "      <th>25</th>\n",
       "      <td>isometric-contributions</td>\n",
       "      <td>jasonlong</td>\n",
       "      <td>3000</td>\n",
       "      <td>https://github.com/jasonlong/isometric-contrib...</td>\n",
       "    </tr>\n",
       "    <tr>\n",
       "      <th>26</th>\n",
       "      <td>blender</td>\n",
       "      <td>blender</td>\n",
       "      <td>3000</td>\n",
       "      <td>https://github.com/blender/blender</td>\n",
       "    </tr>\n",
       "    <tr>\n",
       "      <th>27</th>\n",
       "      <td>L7</td>\n",
       "      <td>antvis</td>\n",
       "      <td>2300</td>\n",
       "      <td>https://github.com/antvis/L7</td>\n",
       "    </tr>\n",
       "    <tr>\n",
       "      <th>28</th>\n",
       "      <td>claygl</td>\n",
       "      <td>pissang</td>\n",
       "      <td>2300</td>\n",
       "      <td>https://github.com/pissang/claygl</td>\n",
       "    </tr>\n",
       "    <tr>\n",
       "      <th>29</th>\n",
       "      <td>meshlab</td>\n",
       "      <td>cnr-isti-vclab</td>\n",
       "      <td>2300</td>\n",
       "      <td>https://github.com/cnr-isti-vclab/meshlab</td>\n",
       "    </tr>\n",
       "  </tbody>\n",
       "</table>\n",
       "</div>"
      ],
      "text/plain": [
       "                  Repository Name          Username  Stars  \\\n",
       "0                        three.js            mrdoob  72700   \n",
       "1                          libgdx            libgdx  18600   \n",
       "2                      Babylon.js         BabylonJS  14400   \n",
       "3               react-three-fiber            pmndrs  14000   \n",
       "4                          aframe          aframevr  12900   \n",
       "5                    tinyrenderer             ssloy  10900   \n",
       "6   3d-game-shaders-for-beginners           lettier  10700   \n",
       "7                         FreeCAD           FreeCAD   9600   \n",
       "8                            zdog         metafizzy   8500   \n",
       "9                          cesium          CesiumGS   7300   \n",
       "10             SpaceshipGenerator      a1studmuffin   6800   \n",
       "11            3D-Machine-Learning       timzhang642   6800   \n",
       "12                         Open3D         intel-isl   4800   \n",
       "13                       spritejs          spritejs   4500   \n",
       "14                    tensorspace  tensorspace-team   4400   \n",
       "15                 webglstudio.js           jagenjo   4400   \n",
       "16                            vrn      AaronJackson   4400   \n",
       "17                          PRNet           YadiraF   4300   \n",
       "18                       openscad          openscad   4100   \n",
       "19                     BlenderGIS           domlysz   4100   \n",
       "20                  tinyraytracer             ssloy   3800   \n",
       "21                         magnum             mosra   3500   \n",
       "22                   model-viewer            google   3100   \n",
       "23             webgl-fundamentals   gfxfundamentals   3100   \n",
       "24                          3DDFA         cleardusk   3000   \n",
       "25        isometric-contributions         jasonlong   3000   \n",
       "26                        blender           blender   3000   \n",
       "27                             L7            antvis   2300   \n",
       "28                         claygl           pissang   2300   \n",
       "29                        meshlab    cnr-isti-vclab   2300   \n",
       "\n",
       "                                                  URL  \n",
       "0                  https://github.com/mrdoob/three.js  \n",
       "1                    https://github.com/libgdx/libgdx  \n",
       "2             https://github.com/BabylonJS/Babylon.js  \n",
       "3         https://github.com/pmndrs/react-three-fiber  \n",
       "4                  https://github.com/aframevr/aframe  \n",
       "5               https://github.com/ssloy/tinyrenderer  \n",
       "6   https://github.com/lettier/3d-game-shaders-for...  \n",
       "7                  https://github.com/FreeCAD/FreeCAD  \n",
       "8                   https://github.com/metafizzy/zdog  \n",
       "9                  https://github.com/CesiumGS/cesium  \n",
       "10  https://github.com/a1studmuffin/SpaceshipGener...  \n",
       "11  https://github.com/timzhang642/3D-Machine-Lear...  \n",
       "12                https://github.com/intel-isl/Open3D  \n",
       "13               https://github.com/spritejs/spritejs  \n",
       "14    https://github.com/tensorspace-team/tensorspace  \n",
       "15          https://github.com/jagenjo/webglstudio.js  \n",
       "16                https://github.com/AaronJackson/vrn  \n",
       "17                   https://github.com/YadiraF/PRNet  \n",
       "18               https://github.com/openscad/openscad  \n",
       "19              https://github.com/domlysz/BlenderGIS  \n",
       "20             https://github.com/ssloy/tinyraytracer  \n",
       "21                    https://github.com/mosra/magnum  \n",
       "22             https://github.com/google/model-viewer  \n",
       "23  https://github.com/gfxfundamentals/webgl-funda...  \n",
       "24                 https://github.com/cleardusk/3DDFA  \n",
       "25  https://github.com/jasonlong/isometric-contrib...  \n",
       "26                 https://github.com/blender/blender  \n",
       "27                       https://github.com/antvis/L7  \n",
       "28                  https://github.com/pissang/claygl  \n",
       "29          https://github.com/cnr-isti-vclab/meshlab  "
      ]
     },
     "execution_count": 46,
     "metadata": {},
     "output_type": "execute_result"
    }
   ],
   "source": [
    "#Creating a table of repositories\n",
    "repo_dict={\"Repository Name\":repo_names, \"Username\":usernames, \"Stars\":repo_stars, \"URL\":repo_urls}\n",
    "Repo_1_df=pd.DataFrame(repo_dict)\n",
    "Repo_1_df"
   ]
  },
  {
   "cell_type": "code",
   "execution_count": 47,
   "id": "b41081c6",
   "metadata": {},
   "outputs": [],
   "source": [
    "#Saving the table in a CSV file\n",
    "Repo_1_df.to_csv('Repo_1.csv', index=None)"
   ]
  },
  {
   "cell_type": "markdown",
   "id": "ab854e04",
   "metadata": {},
   "source": [
    "# Writing functions to get all the topics"
   ]
  },
  {
   "cell_type": "markdown",
   "id": "70d1b35c",
   "metadata": {},
   "source": [
    "## Function to create a list of topic titles"
   ]
  },
  {
   "cell_type": "code",
   "execution_count": 48,
   "id": "72575bbb",
   "metadata": {},
   "outputs": [],
   "source": [
    "def get_topics_title(doc):\n",
    "    topics_title_tags=doc.find_all(\"p\", class_=\"f3 lh-condensed mb-0 mt-1 Link--primary\")\n",
    "    topics_title=list()\n",
    "    for tag in topics_title_tags:\n",
    "        topics_title.append(tag.text)\n",
    "    return topics_title"
   ]
  },
  {
   "cell_type": "markdown",
   "id": "f5fa29e5",
   "metadata": {},
   "source": [
    "## Function to create a list of topic descriptions"
   ]
  },
  {
   "cell_type": "code",
   "execution_count": 49,
   "id": "2ca54d1c",
   "metadata": {},
   "outputs": [],
   "source": [
    "def get_topics_desc(doc):\n",
    "    topics_desc_tags=doc.find_all(\"p\", class_=\"f5 color-text-secondary mb-0 mt-1\")\n",
    "    topics_desc=list()\n",
    "    for tag in topics_desc_tags:\n",
    "        topics_desc.append(tag.text.strip())\n",
    "    return topics_desc"
   ]
  },
  {
   "cell_type": "markdown",
   "id": "e7c836b0",
   "metadata": {},
   "source": [
    "## Function to create a list of topic URLs"
   ]
  },
  {
   "cell_type": "code",
   "execution_count": 50,
   "id": "bd4d27bc",
   "metadata": {},
   "outputs": [],
   "source": [
    "def get_topics_url(doc):\n",
    "    topics_url_tags=doc.find_all(\"a\", class_=\"d-flex no-underline\")\n",
    "    topics_url=list()\n",
    "    base_url=\"https://github.com\"\n",
    "    for tag in topics_url_tags:\n",
    "        url=base_url+tag.get(\"href\")\n",
    "        topics_url.append(url)\n",
    "    return topics_url"
   ]
  },
  {
   "cell_type": "markdown",
   "id": "154b6e30",
   "metadata": {},
   "source": [
    "## Function to create a table of topics"
   ]
  },
  {
   "cell_type": "code",
   "execution_count": 51,
   "id": "78bfd7b0",
   "metadata": {},
   "outputs": [],
   "source": [
    "def get_topics_table():\n",
    "    topics_url=\"https://github.com/topics\"\n",
    "    response=requests.get(topics_url)\n",
    "    if response.status_code!=200:\n",
    "        raise Exception(\"Failed to load page.\")\n",
    "    soup_1=BeautifulSoup(response.text, \"html.parser\")\n",
    "    topics_dict={\n",
    "        \"Title\":get_topics_title(soup_1),\n",
    "        \"Description\":get_topics_desc(soup_1),\n",
    "        \"URL\":get_topics_url(soup_1)\n",
    "    }\n",
    "    df=pd.DataFrame(topics_dict)\n",
    "    return df\n",
    "    df.to_csv('Topics.csv', index=None)"
   ]
  },
  {
   "cell_type": "code",
   "execution_count": 52,
   "id": "00fb12af",
   "metadata": {},
   "outputs": [
    {
     "data": {
      "text/html": [
       "<div>\n",
       "<style scoped>\n",
       "    .dataframe tbody tr th:only-of-type {\n",
       "        vertical-align: middle;\n",
       "    }\n",
       "\n",
       "    .dataframe tbody tr th {\n",
       "        vertical-align: top;\n",
       "    }\n",
       "\n",
       "    .dataframe thead th {\n",
       "        text-align: right;\n",
       "    }\n",
       "</style>\n",
       "<table border=\"1\" class=\"dataframe\">\n",
       "  <thead>\n",
       "    <tr style=\"text-align: right;\">\n",
       "      <th></th>\n",
       "      <th>Title</th>\n",
       "      <th>Description</th>\n",
       "      <th>URL</th>\n",
       "    </tr>\n",
       "  </thead>\n",
       "  <tbody>\n",
       "    <tr>\n",
       "      <th>0</th>\n",
       "      <td>3D</td>\n",
       "      <td>3D modeling is the process of virtually develo...</td>\n",
       "      <td>https://github.com/topics/3d</td>\n",
       "    </tr>\n",
       "    <tr>\n",
       "      <th>1</th>\n",
       "      <td>Ajax</td>\n",
       "      <td>Ajax is a technique for creating interactive w...</td>\n",
       "      <td>https://github.com/topics/ajax</td>\n",
       "    </tr>\n",
       "    <tr>\n",
       "      <th>2</th>\n",
       "      <td>Algorithm</td>\n",
       "      <td>Algorithms are self-contained sequences that c...</td>\n",
       "      <td>https://github.com/topics/algorithm</td>\n",
       "    </tr>\n",
       "    <tr>\n",
       "      <th>3</th>\n",
       "      <td>Amp</td>\n",
       "      <td>Amp is a non-blocking concurrency framework fo...</td>\n",
       "      <td>https://github.com/topics/amphp</td>\n",
       "    </tr>\n",
       "    <tr>\n",
       "      <th>4</th>\n",
       "      <td>Android</td>\n",
       "      <td>Android is an operating system built by Google...</td>\n",
       "      <td>https://github.com/topics/android</td>\n",
       "    </tr>\n",
       "    <tr>\n",
       "      <th>5</th>\n",
       "      <td>Angular</td>\n",
       "      <td>Angular is an open source web application plat...</td>\n",
       "      <td>https://github.com/topics/angular</td>\n",
       "    </tr>\n",
       "    <tr>\n",
       "      <th>6</th>\n",
       "      <td>Ansible</td>\n",
       "      <td>Ansible is a simple and powerful automation en...</td>\n",
       "      <td>https://github.com/topics/ansible</td>\n",
       "    </tr>\n",
       "    <tr>\n",
       "      <th>7</th>\n",
       "      <td>API</td>\n",
       "      <td>An API (Application Programming Interface) is ...</td>\n",
       "      <td>https://github.com/topics/api</td>\n",
       "    </tr>\n",
       "    <tr>\n",
       "      <th>8</th>\n",
       "      <td>Arduino</td>\n",
       "      <td>Arduino is an open source hardware and softwar...</td>\n",
       "      <td>https://github.com/topics/arduino</td>\n",
       "    </tr>\n",
       "    <tr>\n",
       "      <th>9</th>\n",
       "      <td>ASP.NET</td>\n",
       "      <td>ASP.NET is a web framework for building modern...</td>\n",
       "      <td>https://github.com/topics/aspnet</td>\n",
       "    </tr>\n",
       "    <tr>\n",
       "      <th>10</th>\n",
       "      <td>Atom</td>\n",
       "      <td>Atom is a open source text editor built with w...</td>\n",
       "      <td>https://github.com/topics/atom</td>\n",
       "    </tr>\n",
       "    <tr>\n",
       "      <th>11</th>\n",
       "      <td>Awesome Lists</td>\n",
       "      <td>An awesome list is a list of awesome things cu...</td>\n",
       "      <td>https://github.com/topics/awesome</td>\n",
       "    </tr>\n",
       "    <tr>\n",
       "      <th>12</th>\n",
       "      <td>Amazon Web Services</td>\n",
       "      <td>Amazon Web Services provides on-demand cloud c...</td>\n",
       "      <td>https://github.com/topics/aws</td>\n",
       "    </tr>\n",
       "    <tr>\n",
       "      <th>13</th>\n",
       "      <td>Azure</td>\n",
       "      <td>Azure is a cloud computing service created by ...</td>\n",
       "      <td>https://github.com/topics/azure</td>\n",
       "    </tr>\n",
       "    <tr>\n",
       "      <th>14</th>\n",
       "      <td>Babel</td>\n",
       "      <td>Babel is a compiler for writing next generatio...</td>\n",
       "      <td>https://github.com/topics/babel</td>\n",
       "    </tr>\n",
       "    <tr>\n",
       "      <th>15</th>\n",
       "      <td>Bash</td>\n",
       "      <td>Bash is a shell and command language interpret...</td>\n",
       "      <td>https://github.com/topics/bash</td>\n",
       "    </tr>\n",
       "    <tr>\n",
       "      <th>16</th>\n",
       "      <td>Bitcoin</td>\n",
       "      <td>Bitcoin is a cryptocurrency developed by Satos...</td>\n",
       "      <td>https://github.com/topics/bitcoin</td>\n",
       "    </tr>\n",
       "    <tr>\n",
       "      <th>17</th>\n",
       "      <td>Bootstrap</td>\n",
       "      <td>Bootstrap is an HTML, CSS, and JavaScript fram...</td>\n",
       "      <td>https://github.com/topics/bootstrap</td>\n",
       "    </tr>\n",
       "    <tr>\n",
       "      <th>18</th>\n",
       "      <td>Bot</td>\n",
       "      <td>A bot is an application that runs automated ta...</td>\n",
       "      <td>https://github.com/topics/bot</td>\n",
       "    </tr>\n",
       "    <tr>\n",
       "      <th>19</th>\n",
       "      <td>C</td>\n",
       "      <td>C is a general purpose programming language th...</td>\n",
       "      <td>https://github.com/topics/c</td>\n",
       "    </tr>\n",
       "    <tr>\n",
       "      <th>20</th>\n",
       "      <td>Chrome</td>\n",
       "      <td>Chrome is a web browser from the tech company ...</td>\n",
       "      <td>https://github.com/topics/chrome</td>\n",
       "    </tr>\n",
       "    <tr>\n",
       "      <th>21</th>\n",
       "      <td>Chrome extension</td>\n",
       "      <td>Google Chrome Extensions are add-ons that allo...</td>\n",
       "      <td>https://github.com/topics/chrome-extension</td>\n",
       "    </tr>\n",
       "    <tr>\n",
       "      <th>22</th>\n",
       "      <td>Command line interface</td>\n",
       "      <td>A CLI, or command-line interface, is a console...</td>\n",
       "      <td>https://github.com/topics/cli</td>\n",
       "    </tr>\n",
       "    <tr>\n",
       "      <th>23</th>\n",
       "      <td>Clojure</td>\n",
       "      <td>Clojure is a dynamic, general-purpose programm...</td>\n",
       "      <td>https://github.com/topics/clojure</td>\n",
       "    </tr>\n",
       "    <tr>\n",
       "      <th>24</th>\n",
       "      <td>Code quality</td>\n",
       "      <td>Automate your code review with style, quality,...</td>\n",
       "      <td>https://github.com/topics/code-quality</td>\n",
       "    </tr>\n",
       "    <tr>\n",
       "      <th>25</th>\n",
       "      <td>Code review</td>\n",
       "      <td>Ensure your code meets quality standards and s...</td>\n",
       "      <td>https://github.com/topics/code-review</td>\n",
       "    </tr>\n",
       "    <tr>\n",
       "      <th>26</th>\n",
       "      <td>Compiler</td>\n",
       "      <td>Compilers are software that translate higher-l...</td>\n",
       "      <td>https://github.com/topics/compiler</td>\n",
       "    </tr>\n",
       "    <tr>\n",
       "      <th>27</th>\n",
       "      <td>Continuous integration</td>\n",
       "      <td>Automatically build and test your code as you ...</td>\n",
       "      <td>https://github.com/topics/continuous-integration</td>\n",
       "    </tr>\n",
       "    <tr>\n",
       "      <th>28</th>\n",
       "      <td>COVID-19</td>\n",
       "      <td>The coronavirus disease 2019 (COVID-19) is an ...</td>\n",
       "      <td>https://github.com/topics/covid-19</td>\n",
       "    </tr>\n",
       "    <tr>\n",
       "      <th>29</th>\n",
       "      <td>C++</td>\n",
       "      <td>C++ is a general purpose and object-oriented p...</td>\n",
       "      <td>https://github.com/topics/cpp</td>\n",
       "    </tr>\n",
       "  </tbody>\n",
       "</table>\n",
       "</div>"
      ],
      "text/plain": [
       "                     Title                                        Description  \\\n",
       "0                       3D  3D modeling is the process of virtually develo...   \n",
       "1                     Ajax  Ajax is a technique for creating interactive w...   \n",
       "2                Algorithm  Algorithms are self-contained sequences that c...   \n",
       "3                      Amp  Amp is a non-blocking concurrency framework fo...   \n",
       "4                  Android  Android is an operating system built by Google...   \n",
       "5                  Angular  Angular is an open source web application plat...   \n",
       "6                  Ansible  Ansible is a simple and powerful automation en...   \n",
       "7                      API  An API (Application Programming Interface) is ...   \n",
       "8                  Arduino  Arduino is an open source hardware and softwar...   \n",
       "9                  ASP.NET  ASP.NET is a web framework for building modern...   \n",
       "10                    Atom  Atom is a open source text editor built with w...   \n",
       "11           Awesome Lists  An awesome list is a list of awesome things cu...   \n",
       "12     Amazon Web Services  Amazon Web Services provides on-demand cloud c...   \n",
       "13                   Azure  Azure is a cloud computing service created by ...   \n",
       "14                   Babel  Babel is a compiler for writing next generatio...   \n",
       "15                    Bash  Bash is a shell and command language interpret...   \n",
       "16                 Bitcoin  Bitcoin is a cryptocurrency developed by Satos...   \n",
       "17               Bootstrap  Bootstrap is an HTML, CSS, and JavaScript fram...   \n",
       "18                     Bot  A bot is an application that runs automated ta...   \n",
       "19                       C  C is a general purpose programming language th...   \n",
       "20                  Chrome  Chrome is a web browser from the tech company ...   \n",
       "21        Chrome extension  Google Chrome Extensions are add-ons that allo...   \n",
       "22  Command line interface  A CLI, or command-line interface, is a console...   \n",
       "23                 Clojure  Clojure is a dynamic, general-purpose programm...   \n",
       "24            Code quality  Automate your code review with style, quality,...   \n",
       "25             Code review  Ensure your code meets quality standards and s...   \n",
       "26                Compiler  Compilers are software that translate higher-l...   \n",
       "27  Continuous integration  Automatically build and test your code as you ...   \n",
       "28                COVID-19  The coronavirus disease 2019 (COVID-19) is an ...   \n",
       "29                     C++  C++ is a general purpose and object-oriented p...   \n",
       "\n",
       "                                                 URL  \n",
       "0                       https://github.com/topics/3d  \n",
       "1                     https://github.com/topics/ajax  \n",
       "2                https://github.com/topics/algorithm  \n",
       "3                    https://github.com/topics/amphp  \n",
       "4                  https://github.com/topics/android  \n",
       "5                  https://github.com/topics/angular  \n",
       "6                  https://github.com/topics/ansible  \n",
       "7                      https://github.com/topics/api  \n",
       "8                  https://github.com/topics/arduino  \n",
       "9                   https://github.com/topics/aspnet  \n",
       "10                    https://github.com/topics/atom  \n",
       "11                 https://github.com/topics/awesome  \n",
       "12                     https://github.com/topics/aws  \n",
       "13                   https://github.com/topics/azure  \n",
       "14                   https://github.com/topics/babel  \n",
       "15                    https://github.com/topics/bash  \n",
       "16                 https://github.com/topics/bitcoin  \n",
       "17               https://github.com/topics/bootstrap  \n",
       "18                     https://github.com/topics/bot  \n",
       "19                       https://github.com/topics/c  \n",
       "20                  https://github.com/topics/chrome  \n",
       "21        https://github.com/topics/chrome-extension  \n",
       "22                     https://github.com/topics/cli  \n",
       "23                 https://github.com/topics/clojure  \n",
       "24            https://github.com/topics/code-quality  \n",
       "25             https://github.com/topics/code-review  \n",
       "26                https://github.com/topics/compiler  \n",
       "27  https://github.com/topics/continuous-integration  \n",
       "28                https://github.com/topics/covid-19  \n",
       "29                     https://github.com/topics/cpp  "
      ]
     },
     "execution_count": 52,
     "metadata": {},
     "output_type": "execute_result"
    }
   ],
   "source": [
    "get_topics_table()"
   ]
  },
  {
   "cell_type": "markdown",
   "id": "50c64a1c",
   "metadata": {},
   "source": [
    "# Writing functions to get repositories of all the topics"
   ]
  },
  {
   "cell_type": "markdown",
   "id": "829c65a5",
   "metadata": {},
   "source": [
    "## Function to get repository name, username and URL"
   ]
  },
  {
   "cell_type": "code",
   "execution_count": 53,
   "id": "b84d778c",
   "metadata": {},
   "outputs": [],
   "source": [
    "def get_repo(soup):\n",
    "    repo_tags=soup.find_all(\"h3\", class_=\"f3 color-text-secondary text-normal lh-condensed\")\n",
    "    usernames=list()\n",
    "    repo_names=list()\n",
    "    repo_urls=list()\n",
    "    repo=list()\n",
    "    base_url=\"https://github.com\"\n",
    "    for tag in repo_tags:\n",
    "        usernames.append(tag.find_all(\"a\")[0].text.strip())\n",
    "        repo_names.append(tag.find_all(\"a\")[1].text.strip())\n",
    "        repo_url=base_url+tag.find_all(\"a\")[1].get(\"href\")\n",
    "        repo_urls.append(repo_url)\n",
    "    repo.append(usernames)\n",
    "    repo.append(repo_names)\n",
    "    repo.append(repo_urls)\n",
    "    return repo"
   ]
  },
  {
   "cell_type": "markdown",
   "id": "c819fc42",
   "metadata": {},
   "source": [
    "## Function to get repository stars"
   ]
  },
  {
   "cell_type": "code",
   "execution_count": 54,
   "id": "2a30c419",
   "metadata": {},
   "outputs": [],
   "source": [
    "def get_repo_stars(soup):\n",
    "    star_tags=soup.find_all(\"a\", class_=\"social-count float-none\")\n",
    "    star_str=list()\n",
    "    for tag in star_tags:\n",
    "        star_str.append(tag.text.strip())\n",
    "    repo_stars=list()\n",
    "    for star in star_str:\n",
    "        count=convert(star)\n",
    "        repo_stars.append(count)\n",
    "    return repo_stars"
   ]
  },
  {
   "cell_type": "markdown",
   "id": "bfc03660",
   "metadata": {},
   "source": [
    "## Function to create tables of repository for all topics"
   ]
  },
  {
   "cell_type": "code",
   "execution_count": 55,
   "id": "84bea33d",
   "metadata": {},
   "outputs": [],
   "source": [
    "import os"
   ]
  },
  {
   "cell_type": "code",
   "execution_count": 56,
   "id": "3945ac11",
   "metadata": {},
   "outputs": [],
   "source": [
    "import shutil"
   ]
  },
  {
   "cell_type": "code",
   "execution_count": 57,
   "id": "857b87bb",
   "metadata": {},
   "outputs": [],
   "source": [
    "def get_repos_table():\n",
    "    print(\"Scraping through all topics at https://github.com/topics\")\n",
    "    folder=\"Topics Information\"\n",
    "    os.chdir(\"C:\\\\Users\\\\shakkhar paul\\\\Desktop\\\\Project 1\")\n",
    "    if os.path.isdir(folder):\n",
    "        shutil.rmtree(folder)\n",
    "        os.mkdir(folder)\n",
    "        os.chdir(\"C:\\\\Users\\\\shakkhar paul\\\\Desktop\\\\Project 1\"+\"\\\\\"+folder)\n",
    "        repos=dict()\n",
    "        for index,row in get_topics_table().iterrows():\n",
    "            repos[row[\"Title\"]]=row[\"URL\"]\n",
    "        for k,v in repos.items():\n",
    "            topic_url=v\n",
    "            topic_name=k\n",
    "            print(\"Scraping through\",topic_name,\"repositories at\",topic_url)\n",
    "            headers={\"User-Agent\":\"Mozilla/5.0 (Windows NT 10.0; Win64; x64) AppleWebKit/537.36 (KHTML, like Gecko) Chrome/91.0.4472.124 Safari/537.36\"}\n",
    "            response=requests.get(topic_url, headers =headers)\n",
    "            if response.status_code<200 or response.status_code>400:\n",
    "                raise Exception(\"Error message:\",response.status_code,\"Failed to load page \",topic_url)\n",
    "            soup_2=BeautifulSoup(response.text, \"html.parser\")\n",
    "            username_list=get_repo(soup_2)[0]\n",
    "            repo_name_list=get_repo(soup_2)[1]\n",
    "            repo_url_list=get_repo(soup_2)[2]\n",
    "            repo_star_list=get_repo_stars(soup_2)\n",
    "            repos_dict={\"Repository Name\":repo_name_list, \"Username\":username_list, \"Stars\":repo_star_list, \"URL\":repo_url_list}\n",
    "            repos_df=pd.DataFrame(repos_dict)\n",
    "            fname=topic_name+\".csv\"\n",
    "            if os.path.exists(fname):\n",
    "                print(\"The file\",fname,\"already exists. Skipping . . . \")\n",
    "            repos_df.to_csv(fname, index=None)\n",
    "        print(\"ALL FILES CREATED\")"
   ]
  },
  {
   "cell_type": "code",
   "execution_count": 58,
   "id": "78a0c04c",
   "metadata": {
    "scrolled": true
   },
   "outputs": [
    {
     "name": "stdout",
     "output_type": "stream",
     "text": [
      "Scraping through all topics at https://github.com/topics\n",
      "Scraping through 3D repositories at https://github.com/topics/3d\n",
      "Scraping through Ajax repositories at https://github.com/topics/ajax\n",
      "Scraping through Algorithm repositories at https://github.com/topics/algorithm\n",
      "Scraping through Amp repositories at https://github.com/topics/amphp\n",
      "Scraping through Android repositories at https://github.com/topics/android\n",
      "Scraping through Angular repositories at https://github.com/topics/angular\n",
      "Scraping through Ansible repositories at https://github.com/topics/ansible\n",
      "Scraping through API repositories at https://github.com/topics/api\n",
      "Scraping through Arduino repositories at https://github.com/topics/arduino\n",
      "Scraping through ASP.NET repositories at https://github.com/topics/aspnet\n",
      "Scraping through Atom repositories at https://github.com/topics/atom\n",
      "Scraping through Awesome Lists repositories at https://github.com/topics/awesome\n",
      "Scraping through Amazon Web Services repositories at https://github.com/topics/aws\n",
      "Scraping through Azure repositories at https://github.com/topics/azure\n",
      "Scraping through Babel repositories at https://github.com/topics/babel\n",
      "Scraping through Bash repositories at https://github.com/topics/bash\n",
      "Scraping through Bitcoin repositories at https://github.com/topics/bitcoin\n",
      "Scraping through Bootstrap repositories at https://github.com/topics/bootstrap\n",
      "Scraping through Bot repositories at https://github.com/topics/bot\n",
      "Scraping through C repositories at https://github.com/topics/c\n",
      "Scraping through Chrome repositories at https://github.com/topics/chrome\n",
      "Scraping through Chrome extension repositories at https://github.com/topics/chrome-extension\n",
      "Scraping through Command line interface repositories at https://github.com/topics/cli\n",
      "Scraping through Clojure repositories at https://github.com/topics/clojure\n",
      "Scraping through Code quality repositories at https://github.com/topics/code-quality\n",
      "Scraping through Code review repositories at https://github.com/topics/code-review\n",
      "Scraping through Compiler repositories at https://github.com/topics/compiler\n",
      "Scraping through Continuous integration repositories at https://github.com/topics/continuous-integration\n",
      "Scraping through COVID-19 repositories at https://github.com/topics/covid-19\n",
      "Scraping through C++ repositories at https://github.com/topics/cpp\n",
      "ALL FILES CREATED\n"
     ]
    }
   ],
   "source": [
    "get_repos_table()"
   ]
  },
  {
   "cell_type": "code",
   "execution_count": 59,
   "id": "4ea17293",
   "metadata": {},
   "outputs": [],
   "source": [
    "import jovian"
   ]
  },
  {
   "cell_type": "code",
   "execution_count": null,
   "id": "9b7a8ee9",
   "metadata": {},
   "outputs": [
    {
     "data": {
      "application/javascript": [
       "window.require && require([\"base/js/namespace\"],function(Jupyter){Jupyter.notebook.save_checkpoint()})"
      ],
      "text/plain": [
       "<IPython.core.display.Javascript object>"
      ]
     },
     "metadata": {},
     "output_type": "display_data"
    }
   ],
   "source": [
    "jovian.commit(filename='C:\\\\Users\\\\shakkhar paul\\\\Desktop\\\\Project 1\\\\Project_1.ipynb')"
   ]
  },
  {
   "cell_type": "code",
   "execution_count": null,
   "id": "3b77b65e",
   "metadata": {},
   "outputs": [],
   "source": []
  }
 ],
 "metadata": {
  "kernelspec": {
   "display_name": "Python 3 (ipykernel)",
   "language": "python",
   "name": "python3"
  },
  "language_info": {
   "codemirror_mode": {
    "name": "ipython",
    "version": 3
   },
   "file_extension": ".py",
   "mimetype": "text/x-python",
   "name": "python",
   "nbconvert_exporter": "python",
   "pygments_lexer": "ipython3",
   "version": "3.9.5"
  }
 },
 "nbformat": 4,
 "nbformat_minor": 5
}
