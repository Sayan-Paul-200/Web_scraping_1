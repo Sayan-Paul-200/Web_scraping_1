{
 "cells": [
  {
   "cell_type": "markdown",
   "id": "041e68ef",
   "metadata": {},
   "source": [
    "# Scraping Top Repositories for Topics at GitHub"
   ]
  },
  {
   "cell_type": "markdown",
   "id": "3344bf74",
   "metadata": {},
   "source": [
    "## Introduction\n",
    "\n",
    "- Introduction about web scraping\n",
    "- Introduction about GitHub\n",
    "- Talk about the project\n",
    "- Give an outline of the project\n",
    "- Mention the tools used"
   ]
  },
  {
   "cell_type": "markdown",
   "id": "b88f7bd6",
   "metadata": {},
   "source": [
    "## Web Scraping"
   ]
  },
  {
   "cell_type": "markdown",
   "id": "6d51a0d5",
   "metadata": {},
   "source": [
    "Web scraping, also known as web harvesting or web data extraction is data scraping used for extracting data from websites. The web scraping software may directly access the World Wide Web using the Hypertext Transfer Protocol or a web browser. While web scraping can be done manually by a software user, the term typically refers to automated processes implemented using a bot or web crawler. It is a form of copying in which specific data is gathered and copied from the web, typically into a central local database or spreadsheet, for later retrieval or analysis."
   ]
  },
  {
   "cell_type": "markdown",
   "id": "d4654090",
   "metadata": {},
   "source": [
    "For more information about Web scraping, visit the page https://en.wikipedia.org/wiki/Web_scraping"
   ]
  },
  {
   "cell_type": "markdown",
   "id": "b216102d",
   "metadata": {},
   "source": [
    "## GitHub"
   ]
  },
  {
   "cell_type": "markdown",
   "id": "3ccb5a3f",
   "metadata": {},
   "source": [
    "GitHub, Inc. is a provider of Internet hosting for software development and version control using Git. It offers the distributed version control and source code management (SCM) functionality of Git, plus its own features. It provides access control and several collaboration features such as bug tracking, feature requests, task management, continuous integration and wikis for every project. Headquartered in California, it has been a subsidiary of Microsoft since 2018."
   ]
  },
  {
   "cell_type": "markdown",
   "id": "11f802c2",
   "metadata": {},
   "source": [
    "For more information about GitHub, visit the page https://en.wikipedia.org/wiki/GitHub"
   ]
  },
  {
   "cell_type": "markdown",
   "id": "c9c7c3d7",
   "metadata": {},
   "source": [
    "## Project_1"
   ]
  },
  {
   "cell_type": "markdown",
   "id": "300b5b99",
   "metadata": {},
   "source": [
    "This is my first web scraping project. I wanted to know about all the top repositories for each topic on GitHub. But it seemed like a lot of hassle to manually go through each topic page on GitHub and search for it's top repositories. Also to remember which repository belongs to which topic was a lot of work for me. So I tried to automate the whole process using the mighty Python and web scraping to do the work for me."
   ]
  },
  {
   "cell_type": "markdown",
   "id": "83302da9",
   "metadata": {},
   "source": [
    "## Outline"
   ]
  },
  {
   "cell_type": "markdown",
   "id": "d4a23387",
   "metadata": {},
   "source": [
    "- First we scrape through https://github.com/topics\n",
    "- Then we get a list of all topics on the first page. For each topic, we fetch topic title, topic description and topic url\n",
    "- Later we get a list of all the repositories on each topic page. For each repository, we fetch repository name, owner name, stars and repository url\n",
    "- We create a CSV file of all the topics info collected\n",
    "- At last we create a CSV file of all repositories info collected for each topic like the following :-\n",
    "---\n",
    "Repository Name,Userame,Stars,URL\n",
    "\n",
    "three.js,mrdoob,72500,https://github.com/mrdoob/three.js\n",
    "\n",
    "libgdx,libgdx,18600,https://github.com/libgdx/libgdx\n",
    "\n",
    "---"
   ]
  },
  {
   "cell_type": "markdown",
   "id": "a4f7614a",
   "metadata": {},
   "source": [
    "## Tools used"
   ]
  },
  {
   "cell_type": "markdown",
   "id": "c5e68526",
   "metadata": {},
   "source": [
    "### I used\n",
    "- Python as the programming language due to its wide range of libraries (modules).\n",
    "- requests module to download the webpages.\n",
    "- BeautifulSoup module to scrape through the HTML codes of webpages.\n",
    "- Pandas module to create dataframes of collected data\n",
    "- os module to create folder and change path of directory\n",
    "- shutil module to delete directory\n",
    "- IPython.display module to import and display images\n",
    "- time module to sleep process"
   ]
  },
  {
   "cell_type": "markdown",
   "id": "7de8a230",
   "metadata": {},
   "source": [
    "## Importing all libraries"
   ]
  },
  {
   "cell_type": "markdown",
   "id": "a8ab3058",
   "metadata": {},
   "source": [
    "It is better to import all the required libraries at first for convenience."
   ]
  },
  {
   "cell_type": "markdown",
   "id": "749a9fd9",
   "metadata": {},
   "source": [
    "- NOTE :- Some libraries are not in-built in python. Even if we have previously installed our libraries, we should check if they are updated are not. We can do these 2 things using the following syntax \n",
    "\n",
    "  !pip install (library name) --upgrade --quiet\n",
    "---"
   ]
  },
  {
   "cell_type": "code",
   "execution_count": 1,
   "id": "497818aa",
   "metadata": {},
   "outputs": [],
   "source": [
    "import requests\n",
    "from bs4 import BeautifulSoup\n",
    "import pandas as pd\n",
    "import os\n",
    "import shutil\n",
    "from IPython.display import Image\n",
    "import time"
   ]
  },
  {
   "cell_type": "markdown",
   "id": "6630abdb",
   "metadata": {},
   "source": [
    "## Scraping through https://github.com/topics"
   ]
  },
  {
   "cell_type": "markdown",
   "id": "e77b59f8",
   "metadata": {},
   "source": [
    "- First we use requests to download the webpage\n",
    "- Then we use BeautifulSoup to scrape through the HTML\n",
    "\n",
    "Let us create a function which will do the above tasks"
   ]
  },
  {
   "cell_type": "code",
   "execution_count": 2,
   "id": "e397cb55",
   "metadata": {},
   "outputs": [],
   "source": [
    "def scrape_topics_page():\n",
    "    topics_url=\"https://github.com/topics\"\n",
    "    response=requests.get(topics_url)\n",
    "    if response.status_code!=200:\n",
    "        raise Exception(\"Failed to load page.\")\n",
    "    soup_1=BeautifulSoup(response.text, \"html.parser\")\n",
    "    return soup_1"
   ]
  },
  {
   "cell_type": "code",
   "execution_count": 3,
   "id": "39fc3281",
   "metadata": {},
   "outputs": [],
   "source": [
    "soup=scrape_topics_page()"
   ]
  },
  {
   "cell_type": "markdown",
   "id": "789c89f0",
   "metadata": {},
   "source": [
    "When we send request on any webpage, it's server responses with an HTTP status code. If the status code we get is 200, then the reposnse is successful.\n",
    "\n",
    "For more information about HTTP status code, visit the page https://developer.mozilla.org/en-US/docs/Web/HTTP/Status"
   ]
  },
  {
   "cell_type": "markdown",
   "id": "9b36d3e0",
   "metadata": {},
   "source": [
    "When we call the function scrape_topics_page() , we get the object soup_1 which consists of the HTML code of the topics_url page."
   ]
  },
  {
   "cell_type": "markdown",
   "id": "9c67e4cf",
   "metadata": {},
   "source": [
    "## Getting information of each Topic"
   ]
  },
  {
   "cell_type": "markdown",
   "id": "90426a3e",
   "metadata": {},
   "source": [
    "### Let us create some helper fucntions to get more information on the Topics page"
   ]
  },
  {
   "cell_type": "markdown",
   "id": "cdecda05",
   "metadata": {},
   "source": [
    "- Function to get a list of topic titles"
   ]
  },
  {
   "cell_type": "code",
   "execution_count": 4,
   "id": "06522ca6",
   "metadata": {
    "scrolled": true
   },
   "outputs": [
    {
     "data": {
      "image/png": "[encoded data removed]",
      "text/plain": [
       "<IPython.core.display.Image object>"
      ]
     },
     "execution_count": 4,
     "metadata": {},
     "output_type": "execute_result"
    }
   ],
   "source": [
    "Image(\"1.png\")"
   ]
  },
  {
   "cell_type": "markdown",
   "id": "165a8044",
   "metadata": {},
   "source": [
    "To get topic tiles, we will collect all the p tags with class=\"f3 lh-condensed mb-0 mt-1 Link--primary\""
   ]
  },
  {
   "cell_type": "code",
   "execution_count": 5,
   "id": "60283123",
   "metadata": {},
   "outputs": [],
   "source": [
    "def get_topics_title(doc):\n",
    "    topics_title_tags=doc.find_all(\"p\", class_=\"f3 lh-condensed mb-0 mt-1 Link--primary\")\n",
    "    topics_title=list()\n",
    "    for tag in topics_title_tags:\n",
    "        topics_title.append(tag.text)\n",
    "    return topics_title"
   ]
  },
  {
   "cell_type": "markdown",
   "id": "48b763b6",
   "metadata": {},
   "source": [
    "When we call the function get_topics_title(doc), we get a list of all the titles from the Topics page"
   ]
  },
  {
   "cell_type": "code",
   "execution_count": 6,
   "id": "b7cdf23b",
   "metadata": {},
   "outputs": [],
   "source": [
    "titles=get_topics_title(soup)"
   ]
  },
  {
   "cell_type": "code",
   "execution_count": 7,
   "id": "d5d60d11",
   "metadata": {},
   "outputs": [
    {
     "data": {
      "text/plain": [
       "30"
      ]
     },
     "execution_count": 7,
     "metadata": {},
     "output_type": "execute_result"
    }
   ],
   "source": [
    "len(titles)"
   ]
  },
  {
   "cell_type": "code",
   "execution_count": 8,
   "id": "1f2191ee",
   "metadata": {},
   "outputs": [
    {
     "data": {
      "text/plain": [
       "['3D', 'Ajax', 'Algorithm', 'Amp', 'Android']"
      ]
     },
     "execution_count": 8,
     "metadata": {},
     "output_type": "execute_result"
    }
   ],
   "source": [
    "titles[:5]"
   ]
  },
  {
   "cell_type": "markdown",
   "id": "bd6e97c4",
   "metadata": {},
   "source": [
    "As you can see above, the list titles holds the values of all the topic titles."
   ]
  },
  {
   "cell_type": "markdown",
   "id": "c599dfe8",
   "metadata": {},
   "source": [
    "- Function to get a list of topic descriptions"
   ]
  },
  {
   "cell_type": "code",
   "execution_count": 9,
   "id": "cb0e7a0f",
   "metadata": {
    "scrolled": true
   },
   "outputs": [
    {
     "data": {
      "image/png": "[encoded data removed]",
      "text/plain": [
       "<IPython.core.display.Image object>"
      ]
     },
     "execution_count": 9,
     "metadata": {},
     "output_type": "execute_result"
    }
   ],
   "source": [
    "Image(\"2.png\")"
   ]
  },
  {
   "cell_type": "markdown",
   "id": "db445896",
   "metadata": {},
   "source": [
    "To get topic descriptions, we will collect all the p tags with class=\"f5 color-text-secondary mb-0 mt-1\""
   ]
  },
  {
   "cell_type": "code",
   "execution_count": 10,
   "id": "518e4a1f",
   "metadata": {},
   "outputs": [],
   "source": [
    "def get_topics_desc(doc):\n",
    "    topics_desc_tags=doc.find_all(\"p\", class_=\"f5 color-text-secondary mb-0 mt-1\")\n",
    "    topics_desc=list()\n",
    "    for tag in topics_desc_tags:\n",
    "        topics_desc.append(tag.text.strip())\n",
    "    return topics_desc"
   ]
  },
  {
   "cell_type": "markdown",
   "id": "dfbf16f2",
   "metadata": {},
   "source": [
    "When we call the function get_topics_desc(doc), we get a list of all the title descriptions from the Topics page"
   ]
  },
  {
   "cell_type": "code",
   "execution_count": 11,
   "id": "3dd431fd",
   "metadata": {},
   "outputs": [],
   "source": [
    "desc=get_topics_desc(soup)"
   ]
  },
  {
   "cell_type": "code",
   "execution_count": 12,
   "id": "bf9044b6",
   "metadata": {},
   "outputs": [
    {
     "data": {
      "text/plain": [
       "30"
      ]
     },
     "execution_count": 12,
     "metadata": {},
     "output_type": "execute_result"
    }
   ],
   "source": [
    "len(desc)"
   ]
  },
  {
   "cell_type": "code",
   "execution_count": 13,
   "id": "f1bc4ec1",
   "metadata": {},
   "outputs": [
    {
     "data": {
      "text/plain": [
       "['3D modeling is the process of virtually developing the surface and structure of a 3D object.',\n",
       " 'Ajax is a technique for creating interactive web applications.',\n",
       " 'Algorithms are self-contained sequences that carry out a variety of tasks.',\n",
       " 'Amp is a non-blocking concurrency framework for PHP.',\n",
       " 'Android is an operating system built by Google designed for mobile devices.']"
      ]
     },
     "execution_count": 13,
     "metadata": {},
     "output_type": "execute_result"
    }
   ],
   "source": [
    "desc[:5]"
   ]
  },
  {
   "cell_type": "markdown",
   "id": "b3d2e909",
   "metadata": {},
   "source": [
    "As you can see above, the list desc holds the values of all the topic descriptions."
   ]
  },
  {
   "cell_type": "markdown",
   "id": "0bfa32d0",
   "metadata": {},
   "source": [
    "- Function to get a list of topic URLs"
   ]
  },
  {
   "cell_type": "code",
   "execution_count": 14,
   "id": "487df076",
   "metadata": {
    "scrolled": true
   },
   "outputs": [
    {
     "data": {
      "image/png": "[encoded data removed]",
      "text/plain": [
       "<IPython.core.display.Image object>"
      ]
     },
     "execution_count": 14,
     "metadata": {},
     "output_type": "execute_result"
    }
   ],
   "source": [
    "Image(\"3.png\")"
   ]
  },
  {
   "cell_type": "markdown",
   "id": "e72cbc11",
   "metadata": {},
   "source": [
    "To get topic URLs, we will collect all the a tags with class=\"d-flex no-underline\""
   ]
  },
  {
   "cell_type": "code",
   "execution_count": 15,
   "id": "d3d47537",
   "metadata": {},
   "outputs": [],
   "source": [
    "def get_topics_url(doc):\n",
    "    topics_url_tags=doc.find_all(\"a\", class_=\"d-flex no-underline\")\n",
    "    topics_url=list()\n",
    "    base_url=\"https://github.com\"\n",
    "    for tag in topics_url_tags:\n",
    "        url=base_url+tag.get(\"href\")\n",
    "        topics_url.append(url)\n",
    "    return topics_url"
   ]
  },
  {
   "cell_type": "markdown",
   "id": "a53d2f7a",
   "metadata": {},
   "source": [
    "When we call the function get_topics_url(doc), we get a list of all the URLs from the Topics page"
   ]
  },
  {
   "cell_type": "code",
   "execution_count": 16,
   "id": "e797bfd1",
   "metadata": {},
   "outputs": [],
   "source": [
    "t_url=get_topics_url(soup)"
   ]
  },
  {
   "cell_type": "code",
   "execution_count": 17,
   "id": "c3872f25",
   "metadata": {},
   "outputs": [
    {
     "data": {
      "text/plain": [
       "30"
      ]
     },
     "execution_count": 17,
     "metadata": {},
     "output_type": "execute_result"
    }
   ],
   "source": [
    "len(t_url)"
   ]
  },
  {
   "cell_type": "code",
   "execution_count": 18,
   "id": "b056eb1c",
   "metadata": {},
   "outputs": [
    {
     "data": {
      "text/plain": [
       "['https://github.com/topics/3d',\n",
       " 'https://github.com/topics/ajax',\n",
       " 'https://github.com/topics/algorithm',\n",
       " 'https://github.com/topics/amphp',\n",
       " 'https://github.com/topics/android']"
      ]
     },
     "execution_count": 18,
     "metadata": {},
     "output_type": "execute_result"
    }
   ],
   "source": [
    "t_url[:5]"
   ]
  },
  {
   "cell_type": "markdown",
   "id": "b6a7beca",
   "metadata": {},
   "source": [
    "As you can see above, the list t_url holds the values of all the topic URLs."
   ]
  },
  {
   "cell_type": "markdown",
   "id": "343e78f4",
   "metadata": {},
   "source": [
    "- Let's put this all together and create a single function"
   ]
  },
  {
   "cell_type": "code",
   "execution_count": 19,
   "id": "57015abf",
   "metadata": {},
   "outputs": [],
   "source": [
    "def get_topics_table():\n",
    "    topics_url=\"https://github.com/topics\"\n",
    "    response=requests.get(topics_url)\n",
    "    if response.status_code<200 or response.status_code>400:\n",
    "        raise Exception(\"Error message:\",response.status_code,\"Failed to load page.\")\n",
    "    soup=BeautifulSoup(response.text, \"html.parser\")\n",
    "    topics_dict={\n",
    "        \"Title\":get_topics_title(soup),\n",
    "        \"Description\":get_topics_desc(soup),\n",
    "        \"URL\":get_topics_url(soup)\n",
    "    }\n",
    "    df=pd.DataFrame(topics_dict)\n",
    "    return df\n",
    "    df.to_csv('Topics.csv', index=None)"
   ]
  },
  {
   "cell_type": "markdown",
   "id": "ab93aed9",
   "metadata": {},
   "source": [
    "In this function, we created a python dictionary topics_dict with 3 following keys:-\n",
    "- \"Tiltle\" which holds a list of all the topic titles we get from the function get_topics_title(soup)\n",
    "- \"Description\" which holds a list of all the topic descriptions we get from the function get_topics_desc(soup)\n",
    "- \"URL\" which holds a list of all the topic URLs we get from the function get_topics_url(soup)\n",
    "\n",
    "We then created a pandas dataframe of the dictionary and lastly, saved the dataframe in a CSV file for later use."
   ]
  },
  {
   "cell_type": "code",
   "execution_count": 20,
   "id": "2ad9634a",
   "metadata": {},
   "outputs": [
    {
     "data": {
      "text/html": [
       "<div>\n",
       "<style scoped>\n",
       "    .dataframe tbody tr th:only-of-type {\n",
       "        vertical-align: middle;\n",
       "    }\n",
       "\n",
       "    .dataframe tbody tr th {\n",
       "        vertical-align: top;\n",
       "    }\n",
       "\n",
       "    .dataframe thead th {\n",
       "        text-align: right;\n",
       "    }\n",
       "</style>\n",
       "<table border=\"1\" class=\"dataframe\">\n",
       "  <thead>\n",
       "    <tr style=\"text-align: right;\">\n",
       "      <th></th>\n",
       "      <th>Title</th>\n",
       "      <th>Description</th>\n",
       "      <th>URL</th>\n",
       "    </tr>\n",
       "  </thead>\n",
       "  <tbody>\n",
       "    <tr>\n",
       "      <th>0</th>\n",
       "      <td>3D</td>\n",
       "      <td>3D modeling is the process of virtually develo...</td>\n",
       "      <td>https://github.com/topics/3d</td>\n",
       "    </tr>\n",
       "    <tr>\n",
       "      <th>1</th>\n",
       "      <td>Ajax</td>\n",
       "      <td>Ajax is a technique for creating interactive w...</td>\n",
       "      <td>https://github.com/topics/ajax</td>\n",
       "    </tr>\n",
       "    <tr>\n",
       "      <th>2</th>\n",
       "      <td>Algorithm</td>\n",
       "      <td>Algorithms are self-contained sequences that c...</td>\n",
       "      <td>https://github.com/topics/algorithm</td>\n",
       "    </tr>\n",
       "    <tr>\n",
       "      <th>3</th>\n",
       "      <td>Amp</td>\n",
       "      <td>Amp is a non-blocking concurrency framework fo...</td>\n",
       "      <td>https://github.com/topics/amphp</td>\n",
       "    </tr>\n",
       "    <tr>\n",
       "      <th>4</th>\n",
       "      <td>Android</td>\n",
       "      <td>Android is an operating system built by Google...</td>\n",
       "      <td>https://github.com/topics/android</td>\n",
       "    </tr>\n",
       "  </tbody>\n",
       "</table>\n",
       "</div>"
      ],
      "text/plain": [
       "       Title                                        Description  \\\n",
       "0         3D  3D modeling is the process of virtually develo...   \n",
       "1       Ajax  Ajax is a technique for creating interactive w...   \n",
       "2  Algorithm  Algorithms are self-contained sequences that c...   \n",
       "3        Amp  Amp is a non-blocking concurrency framework fo...   \n",
       "4    Android  Android is an operating system built by Google...   \n",
       "\n",
       "                                   URL  \n",
       "0         https://github.com/topics/3d  \n",
       "1       https://github.com/topics/ajax  \n",
       "2  https://github.com/topics/algorithm  \n",
       "3      https://github.com/topics/amphp  \n",
       "4    https://github.com/topics/android  "
      ]
     },
     "execution_count": 20,
     "metadata": {},
     "output_type": "execute_result"
    }
   ],
   "source": [
    "get_topics_table()[:5]"
   ]
  },
  {
   "cell_type": "markdown",
   "id": "8036ca37",
   "metadata": {},
   "source": [
    "## Getting top repositories from each topic page"
   ]
  },
  {
   "cell_type": "markdown",
   "id": "6449ff67",
   "metadata": {},
   "source": [
    "- First we use requests to download each topic webpage\n",
    "- Then we use BeautifulSoup to scrape through the HTML\n",
    "\n",
    "Let us create a function which will do the above tasks"
   ]
  },
  {
   "cell_type": "code",
   "execution_count": 21,
   "id": "91454fd3",
   "metadata": {},
   "outputs": [],
   "source": [
    "def scrape_topic_page(topic_url):\n",
    "    response=requests.get(topic_url)\n",
    "    if response.status_code<200 or response.status_code>400:\n",
    "        raise Exception(\"Error message:\",response.status_code,\"Failed to load page.\")\n",
    "    soup_2=BeautifulSoup(response.text, \"html.parser\")\n",
    "    return soup_2"
   ]
  },
  {
   "cell_type": "markdown",
   "id": "751676a2",
   "metadata": {},
   "source": [
    "The above function takes a topic url as an argument, scrape through the page using requests and BeautifulSoup and returns the HTML code"
   ]
  },
  {
   "cell_type": "code",
   "execution_count": 22,
   "id": "44a3960d",
   "metadata": {},
   "outputs": [],
   "source": [
    "topic_1=scrape_topic_page(\"https://github.com/topics/3d\")"
   ]
  },
  {
   "cell_type": "markdown",
   "id": "98566490",
   "metadata": {},
   "source": [
    "Let us use topic_1 object as an example and gather all information we want from a topic page"
   ]
  },
  {
   "cell_type": "markdown",
   "id": "d2752e35",
   "metadata": {},
   "source": [
    "### Let us create some helper functions to get repositories on a Topic page"
   ]
  },
  {
   "cell_type": "markdown",
   "id": "f15b7e11",
   "metadata": {},
   "source": [
    "Let us visit a topic page https://github.com/topics/3d , for example."
   ]
  },
  {
   "cell_type": "code",
   "execution_count": 23,
   "id": "2d5c1e27",
   "metadata": {},
   "outputs": [
    {
     "data": {
      "image/png": "[encoded data removed]",
      "text/plain": [
       "<IPython.core.display.Image object>"
      ]
     },
     "execution_count": 23,
     "metadata": {},
     "output_type": "execute_result"
    }
   ],
   "source": [
    "Image(\"4.png\")"
   ]
  },
  {
   "cell_type": "markdown",
   "id": "5ba79503",
   "metadata": {},
   "source": [
    "If we go through the HTML text, we can observe that at each h3 tag, there are 2 a tags\n",
    "- the first a tag conatins a text which is the username (mrdoob) which created the repository (three.js)\n",
    "- the second a tag contains an href attribute which holds the URL value (/mrdoob/three.js) to the repository and, there is also a text which is the name of the repository (three.js)"
   ]
  },
  {
   "cell_type": "markdown",
   "id": "245c8467",
   "metadata": {},
   "source": [
    "- Function to get a repository names, usernames and URLs from each topic page"
   ]
  },
  {
   "cell_type": "code",
   "execution_count": 24,
   "id": "ef0f0f49",
   "metadata": {},
   "outputs": [],
   "source": [
    "def get_repo(doc):\n",
    "    repo_tags=doc.find_all(\"h3\", class_=\"f3 color-text-secondary text-normal lh-condensed\")\n",
    "    usernames=list()\n",
    "    repo_names=list()\n",
    "    repo_urls=list()\n",
    "    repo=dict()\n",
    "    base_url=\"https://github.com\"\n",
    "    for tag in repo_tags:\n",
    "        usernames.append(tag.find_all(\"a\")[0].text.strip())\n",
    "        repo_names.append(tag.find_all(\"a\")[1].text.strip())\n",
    "        repo_url=base_url+tag.find_all(\"a\")[1].get(\"href\")\n",
    "        repo_urls.append(repo_url)\n",
    "    repo={\"Username\":usernames, \"Repository Name\":repo_names, \"URL\":repo_urls}\n",
    "    return repo"
   ]
  },
  {
   "cell_type": "markdown",
   "id": "ae18ecb2",
   "metadata": {},
   "source": [
    "If we call the above function, we will get a python dictionary which consists of 3 keys\n",
    "- \"Username\" containing a list of all the usernames\n",
    "- \"Repository Name\" containing a list of all the repository names\n",
    "- \"URL\" containing a list of all the URLs to the repository"
   ]
  },
  {
   "cell_type": "markdown",
   "id": "0fd65270",
   "metadata": {},
   "source": [
    "Let us call the above function using the BeautifulSoup object topic_1 which we just created."
   ]
  },
  {
   "cell_type": "code",
   "execution_count": 25,
   "id": "a3894edd",
   "metadata": {},
   "outputs": [],
   "source": [
    "repo_1_info=get_repo(topic_1)"
   ]
  },
  {
   "cell_type": "code",
   "execution_count": 26,
   "id": "8a6cbb07",
   "metadata": {},
   "outputs": [
    {
     "name": "stdout",
     "output_type": "stream",
     "text": [
      "Username ['mrdoob', 'libgdx', 'BabylonJS', 'pmndrs', 'aframevr', 'ssloy', 'lettier', 'FreeCAD', 'metafizzy', 'CesiumGS', 'a1studmuffin', 'timzhang642', 'intel-isl', 'spritejs', 'tensorspace-team', 'jagenjo', 'AaronJackson', 'YadiraF', 'openscad', 'domlysz', 'ssloy', 'mosra', 'google', 'gfxfundamentals', 'cleardusk', 'jasonlong', 'blender', 'antvis', 'pissang', 'cnr-isti-vclab'] \n",
      "\n",
      "Repository Name ['three.js', 'libgdx', 'Babylon.js', 'react-three-fiber', 'aframe', 'tinyrenderer', '3d-game-shaders-for-beginners', 'FreeCAD', 'zdog', 'cesium', 'SpaceshipGenerator', '3D-Machine-Learning', 'Open3D', 'spritejs', 'tensorspace', 'webglstudio.js', 'vrn', 'PRNet', 'openscad', 'BlenderGIS', 'tinyraytracer', 'magnum', 'model-viewer', 'webgl-fundamentals', '3DDFA', 'isometric-contributions', 'blender', 'L7', 'claygl', 'meshlab'] \n",
      "\n",
      "URL ['https://github.com/mrdoob/three.js', 'https://github.com/libgdx/libgdx', 'https://github.com/BabylonJS/Babylon.js', 'https://github.com/pmndrs/react-three-fiber', 'https://github.com/aframevr/aframe', 'https://github.com/ssloy/tinyrenderer', 'https://github.com/lettier/3d-game-shaders-for-beginners', 'https://github.com/FreeCAD/FreeCAD', 'https://github.com/metafizzy/zdog', 'https://github.com/CesiumGS/cesium', 'https://github.com/a1studmuffin/SpaceshipGenerator', 'https://github.com/timzhang642/3D-Machine-Learning', 'https://github.com/intel-isl/Open3D', 'https://github.com/spritejs/spritejs', 'https://github.com/tensorspace-team/tensorspace', 'https://github.com/jagenjo/webglstudio.js', 'https://github.com/AaronJackson/vrn', 'https://github.com/YadiraF/PRNet', 'https://github.com/openscad/openscad', 'https://github.com/domlysz/BlenderGIS', 'https://github.com/ssloy/tinyraytracer', 'https://github.com/mosra/magnum', 'https://github.com/google/model-viewer', 'https://github.com/gfxfundamentals/webgl-fundamentals', 'https://github.com/cleardusk/3DDFA', 'https://github.com/jasonlong/isometric-contributions', 'https://github.com/blender/blender', 'https://github.com/antvis/L7', 'https://github.com/pissang/claygl', 'https://github.com/cnr-isti-vclab/meshlab'] \n",
      "\n"
     ]
    }
   ],
   "source": [
    "for k,v in repo_1_info.items():\n",
    "    print(k,v,\"\\n\")"
   ]
  },
  {
   "cell_type": "code",
   "execution_count": 27,
   "id": "4ef53f56",
   "metadata": {},
   "outputs": [
    {
     "data": {
      "image/png": "[encoded data removed]",
      "text/plain": [
       "<IPython.core.display.Image object>"
      ]
     },
     "execution_count": 27,
     "metadata": {},
     "output_type": "execute_result"
    }
   ],
   "source": [
    "Image(\"5.png\")"
   ]
  },
  {
   "cell_type": "markdown",
   "id": "5763161f",
   "metadata": {},
   "source": [
    "Again going through the HTML, we see that the number of stars is located as a text inside an a tag with class=\"social-count float-none\""
   ]
  },
  {
   "cell_type": "markdown",
   "id": "62973808",
   "metadata": {},
   "source": [
    "- Function to get a repository stars from each topic page"
   ]
  },
  {
   "cell_type": "code",
   "execution_count": 28,
   "id": "5f940cba",
   "metadata": {},
   "outputs": [],
   "source": [
    "def get_stars(doc):\n",
    "    star_tags=doc.find_all(\"a\", class_=\"social-count float-none\")\n",
    "    star_str=list()\n",
    "    for tag in star_tags:\n",
    "        star_str.append(tag.text.strip())\n",
    "    return star_str"
   ]
  },
  {
   "cell_type": "markdown",
   "id": "e59b79d2",
   "metadata": {},
   "source": [
    "If we call the above function, we will get a list of all the stars."
   ]
  },
  {
   "cell_type": "markdown",
   "id": "3b29e4e1",
   "metadata": {},
   "source": [
    "Let us call the above function using the BeautifulSoup object topic_1 "
   ]
  },
  {
   "cell_type": "code",
   "execution_count": 29,
   "id": "18dadfe7",
   "metadata": {},
   "outputs": [],
   "source": [
    "repo_1_stars=get_stars(topic_1)"
   ]
  },
  {
   "cell_type": "code",
   "execution_count": 30,
   "id": "c8ced497",
   "metadata": {},
   "outputs": [
    {
     "data": {
      "text/plain": [
       "['72.7k', '18.6k', '14.4k', '14k', '12.9k']"
      ]
     },
     "execution_count": 30,
     "metadata": {},
     "output_type": "execute_result"
    }
   ],
   "source": [
    "repo_1_stars[:5]"
   ]
  },
  {
   "cell_type": "markdown",
   "id": "57816eb6",
   "metadata": {},
   "source": [
    "Looks like we have got all the star values. But there's a small problem.\n",
    "- The values in the list repo_1_stars are all string objects\n",
    "- Also we all the values in thousand are adjusted to be expressed in \"k\" \n",
    "Now we want to convert all the star values in integer objects and evaluate those values which has \"k\" in it."
   ]
  },
  {
   "cell_type": "markdown",
   "id": "d37473f5",
   "metadata": {},
   "source": [
    "We can solve the above problems by creating another function"
   ]
  },
  {
   "cell_type": "code",
   "execution_count": 31,
   "id": "39bd3939",
   "metadata": {},
   "outputs": [],
   "source": [
    "def convert(string):\n",
    "    string=string.strip()\n",
    "    if string[-1]==\"k\":\n",
    "        return int(float(string[:-1])*1000)\n",
    "    return int(string)"
   ]
  },
  {
   "cell_type": "markdown",
   "id": "c6eecf79",
   "metadata": {},
   "source": [
    "Let us check if we did this right"
   ]
  },
  {
   "cell_type": "code",
   "execution_count": 32,
   "id": "de91be15",
   "metadata": {},
   "outputs": [
    {
     "name": "stdout",
     "output_type": "stream",
     "text": [
      "72000 500 729\n"
     ]
    }
   ],
   "source": [
    "print(convert(\"72.k\"),convert(\"0.5k\"),convert(\"729\"))"
   ]
  },
  {
   "cell_type": "markdown",
   "id": "d568c91b",
   "metadata": {},
   "source": [
    "Yay! We did it right. Now let us incorporate the function covert() inside the function get_stars()"
   ]
  },
  {
   "cell_type": "code",
   "execution_count": 33,
   "id": "78e9b29b",
   "metadata": {},
   "outputs": [],
   "source": [
    "def get_repo_stars(doc):\n",
    "    star_tags=doc.find_all(\"a\", class_=\"social-count float-none\")\n",
    "    star_str=list()\n",
    "    for tag in star_tags:\n",
    "        star_str.append(tag.text.strip())\n",
    "    repo_stars=list()\n",
    "    for star in star_str:\n",
    "        count=convert(star)\n",
    "        repo_stars.append(count)\n",
    "    return repo_stars"
   ]
  },
  {
   "cell_type": "code",
   "execution_count": 34,
   "id": "84020425",
   "metadata": {},
   "outputs": [],
   "source": [
    "repo_1_stars=get_repo_stars(topic_1)"
   ]
  },
  {
   "cell_type": "code",
   "execution_count": 35,
   "id": "4f5bfc0e",
   "metadata": {},
   "outputs": [
    {
     "data": {
      "text/plain": [
       "30"
      ]
     },
     "execution_count": 35,
     "metadata": {},
     "output_type": "execute_result"
    }
   ],
   "source": [
    "len(repo_1_stars)"
   ]
  },
  {
   "cell_type": "code",
   "execution_count": 36,
   "id": "5370b8e9",
   "metadata": {},
   "outputs": [
    {
     "data": {
      "text/plain": [
       "[72700, 18600, 14400, 14000, 12900]"
      ]
     },
     "execution_count": 36,
     "metadata": {},
     "output_type": "execute_result"
    }
   ],
   "source": [
    "repo_1_stars[:5]"
   ]
  },
  {
   "cell_type": "markdown",
   "id": "da6d85ea",
   "metadata": {},
   "source": [
    "Let us create a pandas dataframe of the above information that we gathered from the topic webpage https://github.com/topics/3d"
   ]
  },
  {
   "cell_type": "code",
   "execution_count": 37,
   "id": "bbdf49df",
   "metadata": {},
   "outputs": [
    {
     "data": {
      "text/html": [
       "<div>\n",
       "<style scoped>\n",
       "    .dataframe tbody tr th:only-of-type {\n",
       "        vertical-align: middle;\n",
       "    }\n",
       "\n",
       "    .dataframe tbody tr th {\n",
       "        vertical-align: top;\n",
       "    }\n",
       "\n",
       "    .dataframe thead th {\n",
       "        text-align: right;\n",
       "    }\n",
       "</style>\n",
       "<table border=\"1\" class=\"dataframe\">\n",
       "  <thead>\n",
       "    <tr style=\"text-align: right;\">\n",
       "      <th></th>\n",
       "      <th>Repository Name</th>\n",
       "      <th>Username</th>\n",
       "      <th>Stars</th>\n",
       "      <th>URL</th>\n",
       "    </tr>\n",
       "  </thead>\n",
       "  <tbody>\n",
       "    <tr>\n",
       "      <th>0</th>\n",
       "      <td>three.js</td>\n",
       "      <td>mrdoob</td>\n",
       "      <td>72700</td>\n",
       "      <td>https://github.com/mrdoob/three.js</td>\n",
       "    </tr>\n",
       "    <tr>\n",
       "      <th>1</th>\n",
       "      <td>libgdx</td>\n",
       "      <td>libgdx</td>\n",
       "      <td>18600</td>\n",
       "      <td>https://github.com/libgdx/libgdx</td>\n",
       "    </tr>\n",
       "    <tr>\n",
       "      <th>2</th>\n",
       "      <td>Babylon.js</td>\n",
       "      <td>BabylonJS</td>\n",
       "      <td>14400</td>\n",
       "      <td>https://github.com/BabylonJS/Babylon.js</td>\n",
       "    </tr>\n",
       "    <tr>\n",
       "      <th>3</th>\n",
       "      <td>react-three-fiber</td>\n",
       "      <td>pmndrs</td>\n",
       "      <td>14000</td>\n",
       "      <td>https://github.com/pmndrs/react-three-fiber</td>\n",
       "    </tr>\n",
       "    <tr>\n",
       "      <th>4</th>\n",
       "      <td>aframe</td>\n",
       "      <td>aframevr</td>\n",
       "      <td>12900</td>\n",
       "      <td>https://github.com/aframevr/aframe</td>\n",
       "    </tr>\n",
       "  </tbody>\n",
       "</table>\n",
       "</div>"
      ],
      "text/plain": [
       "     Repository Name   Username  Stars  \\\n",
       "0           three.js     mrdoob  72700   \n",
       "1             libgdx     libgdx  18600   \n",
       "2         Babylon.js  BabylonJS  14400   \n",
       "3  react-three-fiber     pmndrs  14000   \n",
       "4             aframe   aframevr  12900   \n",
       "\n",
       "                                           URL  \n",
       "0           https://github.com/mrdoob/three.js  \n",
       "1             https://github.com/libgdx/libgdx  \n",
       "2      https://github.com/BabylonJS/Babylon.js  \n",
       "3  https://github.com/pmndrs/react-three-fiber  \n",
       "4           https://github.com/aframevr/aframe  "
      ]
     },
     "execution_count": 37,
     "metadata": {},
     "output_type": "execute_result"
    }
   ],
   "source": [
    "repo_1_dict={\"Repository Name\":repo_1_info[\"Repository Name\"], \n",
    "           \"Username\":repo_1_info[\"Username\"], \"Stars\":repo_1_stars, \n",
    "           \"URL\":repo_1_info[\"URL\"]}\n",
    "repo_1_df=pd.DataFrame(repo_1_dict)\n",
    "repo_1_df[:5]"
   ]
  },
  {
   "cell_type": "markdown",
   "id": "ee8f23e3",
   "metadata": {},
   "source": [
    "We have done all things correctly for one particular topic page."
   ]
  },
  {
   "cell_type": "markdown",
   "id": "5b2f491a",
   "metadata": {},
   "source": [
    "Now, let us see how we genarate dataframes for each topic page we gathered."
   ]
  },
  {
   "cell_type": "markdown",
   "id": "7515c8a1",
   "metadata": {},
   "source": [
    "### Putting it all together"
   ]
  },
  {
   "cell_type": "markdown",
   "id": "ba927fba",
   "metadata": {},
   "source": [
    "- We created a function get_topics_table() which returns a dataframe of all the topics and required information that we collected from the Topics page https://github.com/topics. The function also saves a CSV file os the dataframe in the directory.\n",
    "\n",
    "Let us call it again to check."
   ]
  },
  {
   "cell_type": "code",
   "execution_count": 38,
   "id": "9755fae7",
   "metadata": {},
   "outputs": [
    {
     "data": {
      "text/html": [
       "<div>\n",
       "<style scoped>\n",
       "    .dataframe tbody tr th:only-of-type {\n",
       "        vertical-align: middle;\n",
       "    }\n",
       "\n",
       "    .dataframe tbody tr th {\n",
       "        vertical-align: top;\n",
       "    }\n",
       "\n",
       "    .dataframe thead th {\n",
       "        text-align: right;\n",
       "    }\n",
       "</style>\n",
       "<table border=\"1\" class=\"dataframe\">\n",
       "  <thead>\n",
       "    <tr style=\"text-align: right;\">\n",
       "      <th></th>\n",
       "      <th>Title</th>\n",
       "      <th>Description</th>\n",
       "      <th>URL</th>\n",
       "    </tr>\n",
       "  </thead>\n",
       "  <tbody>\n",
       "    <tr>\n",
       "      <th>0</th>\n",
       "      <td>3D</td>\n",
       "      <td>3D modeling is the process of virtually develo...</td>\n",
       "      <td>https://github.com/topics/3d</td>\n",
       "    </tr>\n",
       "    <tr>\n",
       "      <th>1</th>\n",
       "      <td>Ajax</td>\n",
       "      <td>Ajax is a technique for creating interactive w...</td>\n",
       "      <td>https://github.com/topics/ajax</td>\n",
       "    </tr>\n",
       "    <tr>\n",
       "      <th>2</th>\n",
       "      <td>Algorithm</td>\n",
       "      <td>Algorithms are self-contained sequences that c...</td>\n",
       "      <td>https://github.com/topics/algorithm</td>\n",
       "    </tr>\n",
       "    <tr>\n",
       "      <th>3</th>\n",
       "      <td>Amp</td>\n",
       "      <td>Amp is a non-blocking concurrency framework fo...</td>\n",
       "      <td>https://github.com/topics/amphp</td>\n",
       "    </tr>\n",
       "    <tr>\n",
       "      <th>4</th>\n",
       "      <td>Android</td>\n",
       "      <td>Android is an operating system built by Google...</td>\n",
       "      <td>https://github.com/topics/android</td>\n",
       "    </tr>\n",
       "  </tbody>\n",
       "</table>\n",
       "</div>"
      ],
      "text/plain": [
       "       Title                                        Description  \\\n",
       "0         3D  3D modeling is the process of virtually develo...   \n",
       "1       Ajax  Ajax is a technique for creating interactive w...   \n",
       "2  Algorithm  Algorithms are self-contained sequences that c...   \n",
       "3        Amp  Amp is a non-blocking concurrency framework fo...   \n",
       "4    Android  Android is an operating system built by Google...   \n",
       "\n",
       "                                   URL  \n",
       "0         https://github.com/topics/3d  \n",
       "1       https://github.com/topics/ajax  \n",
       "2  https://github.com/topics/algorithm  \n",
       "3      https://github.com/topics/amphp  \n",
       "4    https://github.com/topics/android  "
      ]
     },
     "execution_count": 38,
     "metadata": {},
     "output_type": "execute_result"
    }
   ],
   "source": [
    "get_topics_table()[:5]"
   ]
  },
  {
   "cell_type": "markdown",
   "id": "3dc7685c",
   "metadata": {},
   "source": [
    "- We have also created functions get_repo() and get_repo_stars() which returns all the required information from a particular topic page. We also figured out how to create a dataframe of those information.\n",
    "\n",
    "Now let us incorporate those functions into one single function and generalise it to create a same pandas dataframe separately for all the topics and save a CSV file in the directory for each dataframe."
   ]
  },
  {
   "cell_type": "code",
   "execution_count": 39,
   "id": "aea191c8",
   "metadata": {},
   "outputs": [],
   "source": [
    "def get_repos_table():\n",
    "    print(\"Scraping through all topics at https://github.com/topics\")\n",
    "    folder=\"Repositories\"\n",
    "    os.chdir(\"C:\\\\Users\\\\shakkhar paul\\\\Desktop\\\\Project 1\")\n",
    "    if os.path.isdir(folder):\n",
    "        shutil.rmtree(folder)\n",
    "        os.mkdir(folder)\n",
    "        os.chdir(\"C:\\\\Users\\\\shakkhar paul\\\\Desktop\\\\Project 1\"+\"\\\\\"+folder)\n",
    "        repos=dict()\n",
    "        for index,row in get_topics_table().iterrows():\n",
    "            repos[row[\"Title\"]]=row[\"URL\"]\n",
    "        for k,v in repos.items():\n",
    "            topic_url=v\n",
    "            topic_name=k\n",
    "            print(\"Scraping through\",topic_name,\"repositories at\",topic_url)\n",
    "            headers={\"User-Agent\":\"Mozilla/5.0 (Windows NT 10.0; Win64; x64) AppleWebKit/537.36 (KHTML, like Gecko) Chrome/91.0.4472.124 Safari/537.36\"}\n",
    "            response=requests.get(topic_url, headers =headers)\n",
    "            if response.status_code<200 or response.status_code>400:\n",
    "                raise Exception(\"Error message:\",response.status_code,\"Failed to load page \",topic_url)\n",
    "            soup_2=BeautifulSoup(response.text, \"html.parser\")\n",
    "            username_list=get_repo(soup_2)[\"Username\"]\n",
    "            repo_name_list=get_repo(soup_2)[\"Repository Name\"]\n",
    "            repo_url_list=get_repo(soup_2)[\"URL\"]\n",
    "            repo_star_list=get_repo_stars(soup_2)\n",
    "            repos_dict={\"Repository Name\":repo_name_list, \"Username\":username_list, \"Stars\":repo_star_list, \"URL\":repo_url_list}\n",
    "            repos_df=pd.DataFrame(repos_dict)\n",
    "            fname=topic_name+\".csv\"\n",
    "            if os.path.exists(fname):\n",
    "                print(\"The file\",fname,\"already exists. Skipping . . . \")\n",
    "            repos_df.to_csv(fname, index=None)\n",
    "        print(\"ALL FILES CREATED\")\n",
    "        print(\"Please go to\",folder,\"to check your files.\")"
   ]
  },
  {
   "cell_type": "markdown",
   "id": "5924e929",
   "metadata": {},
   "source": [
    "I know the above function we created is too much complicated. But let us go step by step to understand it better."
   ]
  },
  {
   "cell_type": "markdown",
   "id": "dec2f047",
   "metadata": {},
   "source": [
    "- First we set our directory to the original folder we are currently working on using os.chdir() method. In this case, my directory is \"C:\\ \\Users\\ \\shakkhar paul\\ \\Desktop\\ \\Project 1\". Notice how the paths are separeted by \" \\ \\ \" instead of \" \\ \". We need to do this everytime we work with directories in python.\n",
    "- Then we check if there is any folder named \"Repositories\" in the directory using os.path.isdir() method wich returns True or False value. If True, we delete the folder and all its content using shutil.rmtree() method and create an empty folder of the same name so that every time we run this function it will not kerp creating an empty folder in the directory\n",
    "- We set our directory to the created folder, again using os.chdir() ."
   ]
  },
  {
   "cell_type": "code",
   "execution_count": 40,
   "id": "a9797509",
   "metadata": {},
   "outputs": [
    {
     "data": {
      "text/html": [
       "<div>\n",
       "<style scoped>\n",
       "    .dataframe tbody tr th:only-of-type {\n",
       "        vertical-align: middle;\n",
       "    }\n",
       "\n",
       "    .dataframe tbody tr th {\n",
       "        vertical-align: top;\n",
       "    }\n",
       "\n",
       "    .dataframe thead th {\n",
       "        text-align: right;\n",
       "    }\n",
       "</style>\n",
       "<table border=\"1\" class=\"dataframe\">\n",
       "  <thead>\n",
       "    <tr style=\"text-align: right;\">\n",
       "      <th></th>\n",
       "      <th>Title</th>\n",
       "      <th>Description</th>\n",
       "      <th>URL</th>\n",
       "    </tr>\n",
       "  </thead>\n",
       "  <tbody>\n",
       "    <tr>\n",
       "      <th>0</th>\n",
       "      <td>3D</td>\n",
       "      <td>3D modeling is the process of virtually develo...</td>\n",
       "      <td>https://github.com/topics/3d</td>\n",
       "    </tr>\n",
       "    <tr>\n",
       "      <th>1</th>\n",
       "      <td>Ajax</td>\n",
       "      <td>Ajax is a technique for creating interactive w...</td>\n",
       "      <td>https://github.com/topics/ajax</td>\n",
       "    </tr>\n",
       "    <tr>\n",
       "      <th>2</th>\n",
       "      <td>Algorithm</td>\n",
       "      <td>Algorithms are self-contained sequences that c...</td>\n",
       "      <td>https://github.com/topics/algorithm</td>\n",
       "    </tr>\n",
       "  </tbody>\n",
       "</table>\n",
       "</div>"
      ],
      "text/plain": [
       "       Title                                        Description  \\\n",
       "0         3D  3D modeling is the process of virtually develo...   \n",
       "1       Ajax  Ajax is a technique for creating interactive w...   \n",
       "2  Algorithm  Algorithms are self-contained sequences that c...   \n",
       "\n",
       "                                   URL  \n",
       "0         https://github.com/topics/3d  \n",
       "1       https://github.com/topics/ajax  \n",
       "2  https://github.com/topics/algorithm  "
      ]
     },
     "execution_count": 40,
     "metadata": {},
     "output_type": "execute_result"
    }
   ],
   "source": [
    "get_topics_table()[:3]"
   ]
  },
  {
   "cell_type": "markdown",
   "id": "3c1b86c0",
   "metadata": {},
   "source": [
    "- We then iterate through each row of the Topics dataframe using for index,row in get_topics_table().iterrows() syntax.\n",
    "- We selected the values of the columns \"Title\" and\"URL\" using row[\"column_name\"] and put them in a dictionary repos which contains each \"Title\" as a key with it's corresponding \"URL\" as value like the following :-"
   ]
  },
  {
   "cell_type": "code",
   "execution_count": 41,
   "id": "dcf5834a",
   "metadata": {},
   "outputs": [
    {
     "data": {
      "text/plain": [
       "'https://github.com/topics/3d'"
      ]
     },
     "execution_count": 41,
     "metadata": {},
     "output_type": "execute_result"
    }
   ],
   "source": [
    "repos=dict()\n",
    "for index,row in get_topics_table().iterrows():\n",
    "            repos[row[\"Title\"]]=row[\"URL\"]\n",
    "repos[\"3D\"]"
   ]
  },
  {
   "cell_type": "markdown",
   "id": "a697ef98",
   "metadata": {},
   "source": [
    "- We now iterate through the dictionary using for k,v in repos.items() syntax\n",
    "- For each loop we selected each url from repos and started scraping url using getrequests() method taking the url and also headers as arguments. Notice we created a headers dictionary before using get.request(). We did this because most times, when keep sending continous requests at a server, it recognizes us as a bot instead as human and blocks us from sending further requests. To resolve this issue, I tried setting a headers dictionary which has a key \"User-Agent\" and my own user agent id \"Mozilla/5.0 (Windows NT 10.0; Win64; x64) AppleWebKit/537.36 (KHTML, like Gecko) Chrome/91.0.4472.124 Safari/537.36\" as a value which I gathered by simply searching \"my user agent id\" on Google\n",
    "- To know more about User Agent ID, I strongly recommend you this video https://youtu.be/90t9WkQbQ2E"
   ]
  },
  {
   "cell_type": "markdown",
   "id": "e1e82720",
   "metadata": {},
   "source": [
    "- Then we use BeautifulSoup to create a beautifuldoup object of the HTML code we get\n",
    "- We used our previous funstions get_repo() to get list of username, repository name and its respective link and, get_repo_stars() to get the list of star values.\n",
    "- Finally, we created a dictionary repos_dict to oragnize the above 4 lists with keys \"Reository Name\", \"Username\", \"Stars\" and \"URL\"\n",
    "- We created a pandas dataframe and then created a CSV file which we then save it in the folder \"Repositories\""
   ]
  },
  {
   "cell_type": "markdown",
   "id": "b3165183",
   "metadata": {},
   "source": [
    "####  Since we were iterating through each topics URL, we will so the whole process repeatedly for all topic webpages and save each dataframe as a CSV file in the folder \"Repositories\"."
   ]
  },
  {
   "cell_type": "markdown",
   "id": "9d8a813d",
   "metadata": {},
   "source": [
    "Now let us call the function"
   ]
  },
  {
   "cell_type": "code",
   "execution_count": 51,
   "id": "8351aaf7",
   "metadata": {},
   "outputs": [
    {
     "name": "stdout",
     "output_type": "stream",
     "text": [
      "Scraping through all topics at https://github.com/topics\n",
      "Scraping through 3D repositories at https://github.com/topics/3d\n",
      "Scraping through Ajax repositories at https://github.com/topics/ajax\n",
      "Scraping through Algorithm repositories at https://github.com/topics/algorithm\n",
      "Scraping through Amp repositories at https://github.com/topics/amphp\n",
      "Scraping through Android repositories at https://github.com/topics/android\n",
      "Scraping through Angular repositories at https://github.com/topics/angular\n",
      "Scraping through Ansible repositories at https://github.com/topics/ansible\n",
      "Scraping through API repositories at https://github.com/topics/api\n",
      "Scraping through Arduino repositories at https://github.com/topics/arduino\n",
      "Scraping through ASP.NET repositories at https://github.com/topics/aspnet\n",
      "Scraping through Atom repositories at https://github.com/topics/atom\n",
      "Scraping through Awesome Lists repositories at https://github.com/topics/awesome\n",
      "Scraping through Amazon Web Services repositories at https://github.com/topics/aws\n",
      "Scraping through Azure repositories at https://github.com/topics/azure\n",
      "Scraping through Babel repositories at https://github.com/topics/babel\n",
      "Scraping through Bash repositories at https://github.com/topics/bash\n",
      "Scraping through Bitcoin repositories at https://github.com/topics/bitcoin\n",
      "Scraping through Bootstrap repositories at https://github.com/topics/bootstrap\n",
      "Scraping through Bot repositories at https://github.com/topics/bot\n",
      "Scraping through C repositories at https://github.com/topics/c\n",
      "Scraping through Chrome repositories at https://github.com/topics/chrome\n",
      "Scraping through Chrome extension repositories at https://github.com/topics/chrome-extension\n",
      "Scraping through Command line interface repositories at https://github.com/topics/cli\n",
      "Scraping through Clojure repositories at https://github.com/topics/clojure\n",
      "Scraping through Code quality repositories at https://github.com/topics/code-quality\n",
      "Scraping through Code review repositories at https://github.com/topics/code-review\n",
      "Scraping through Compiler repositories at https://github.com/topics/compiler\n",
      "Scraping through Continuous integration repositories at https://github.com/topics/continuous-integration\n",
      "Scraping through COVID-19 repositories at https://github.com/topics/covid-19\n",
      "Scraping through C++ repositories at https://github.com/topics/cpp\n",
      "ALL FILES CREATED\n",
      "Please go to Repositories to check your files.\n"
     ]
    }
   ],
   "source": [
    "get_repos_table()"
   ]
  },
  {
   "cell_type": "markdown",
   "id": "ee3963c5",
   "metadata": {},
   "source": [
    "Now you can go check in your directory that a folder \"Repositories\" is created which contains all the CSV files you wanted."
   ]
  },
  {
   "cell_type": "markdown",
   "id": "e4195548",
   "metadata": {},
   "source": [
    "But we are still not complete. We were able to scrape topics 3D, Ajax, Algorithm,.... , C++. Also for each topic we got information of top 30 repositories\n",
    "There are more topics left to search and many more repositories to look at from each topic."
   ]
  },
  {
   "cell_type": "markdown",
   "id": "7f91ca09",
   "metadata": {},
   "source": [
    "Let us see if we can solve this problem"
   ]
  },
  {
   "cell_type": "markdown",
   "id": "a7881212",
   "metadata": {},
   "source": [
    "- We visited only the first topic webpage https://github.com/topics which only displays topics till C++.\n",
    "- But if we modify our URL to https://github.com/topics?page=2 we will see the 2nd topic webpage.\n",
    "- Similarly, if we keep changing last digit of the URL, we will be redirected to all the topic webpages.\n",
    "\n",
    "NOTE :- There are only 7 topic webpages"
   ]
  },
  {
   "cell_type": "markdown",
   "id": "61353ab1",
   "metadata": {},
   "source": [
    "Let us modify our previous functions according to our reqirements"
   ]
  },
  {
   "cell_type": "code",
   "execution_count": 42,
   "id": "8d113521",
   "metadata": {},
   "outputs": [],
   "source": [
    "def get_all_topics():\n",
    "    n=1\n",
    "    while n<8:\n",
    "        s=str(n)\n",
    "        topics_url=\"https://github.com/topics\"+\"?page=\"+s\n",
    "        print(\"Scraping through\",topics_url)\n",
    "        response=requests.get(topics_url)\n",
    "        if response.status_code<200 or response.status_code>400:\n",
    "            raise Exception(\"Error message:\",response.status_code,\"Failed to load page.\")\n",
    "        soup=BeautifulSoup(response.text, \"html.parser\")\n",
    "        topics_dict={\n",
    "            \"Title\":get_topics_title(soup),\n",
    "            \"Description\":get_topics_desc(soup),\n",
    "            \"URL\":get_topics_url(soup)\n",
    "        }\n",
    "        df=pd.DataFrame(topics_dict)\n",
    "        fname=\"Topics Page\"+s+\".csv\"\n",
    "        df.to_csv(fname, index=None)\n",
    "        print(fname,\"is created\")\n",
    "        n=n+1\n",
    "    print(\"Please go to the GitHub topics folder to check your files.\")"
   ]
  },
  {
   "cell_type": "markdown",
   "id": "e9b386d8",
   "metadata": {},
   "source": [
    "The above functions almost similar to the function get_topics_table(), but in this one, we created a while loop go through all the topic webpages."
   ]
  },
  {
   "cell_type": "code",
   "execution_count": 43,
   "id": "cfcdd6fd",
   "metadata": {},
   "outputs": [],
   "source": [
    "def get_topics_folder():\n",
    "    folder=\"GitHub topics\"\n",
    "    main_dir=\"C:\\\\Users\\\\shakkhar paul\\\\Desktop\\\\Project 1\"\n",
    "    os.chdir(main_dir)\n",
    "    target_dir=main_dir+\"\\\\\"+folder\n",
    "    if os.path.isdir(target_dir):\n",
    "        print(folder,\"already exists in the directory.\")\n",
    "        print(\"Deleting previous previous files in\",folder,\"...\")\n",
    "        for file in os.listdir(target_dir+\"\\\\\"):\n",
    "            os.remove(target_dir+\"\\\\\"+file)\n",
    "        os.chdir(target_dir)\n",
    "        get_all_topics()\n",
    "    else:\n",
    "        print(folder,\"doesn't exists in the directory.\")\n",
    "        print(\"Creating folder\",folder,\"in the directory...\")\n",
    "        os.mkdir(folder)\n",
    "        os.chdir(target_dir)\n",
    "        get_all_topics()"
   ]
  },
  {
   "cell_type": "markdown",
   "id": "a95654b6",
   "metadata": {},
   "source": [
    "We created the above function to create a new folder GitHub topics where we will save all the CSV files which will be created after calling get_all_topics(). If we have previously called get_folder(), calling it again will delete the previous records and replace it with the new ones, with the help of if statement."
   ]
  },
  {
   "cell_type": "markdown",
   "id": "506b854d",
   "metadata": {},
   "source": [
    "Let us call the function get_folder()."
   ]
  },
  {
   "cell_type": "code",
   "execution_count": 44,
   "id": "48a0adad",
   "metadata": {},
   "outputs": [
    {
     "name": "stdout",
     "output_type": "stream",
     "text": [
      "GitHub topics already exists in the directory.\n",
      "Deleting previous previous files in GitHub topics ...\n",
      "Scraping through https://github.com/topics?page=1\n",
      "Topics Page1.csv is created\n",
      "Scraping through https://github.com/topics?page=2\n",
      "Topics Page2.csv is created\n",
      "Scraping through https://github.com/topics?page=3\n",
      "Topics Page3.csv is created\n",
      "Scraping through https://github.com/topics?page=4\n",
      "Topics Page4.csv is created\n",
      "Scraping through https://github.com/topics?page=5\n",
      "Topics Page5.csv is created\n",
      "Scraping through https://github.com/topics?page=6\n",
      "Topics Page6.csv is created\n",
      "Scraping through https://github.com/topics?page=7\n",
      "Topics Page7.csv is created\n",
      "Please go to the GitHub topics folder to check your files.\n"
     ]
    }
   ],
   "source": [
    "get_topics_folder()"
   ]
  },
  {
   "cell_type": "code",
   "execution_count": 45,
   "id": "169a5497",
   "metadata": {
    "scrolled": true
   },
   "outputs": [
    {
     "data": {
      "text/html": [
       "<div>\n",
       "<style scoped>\n",
       "    .dataframe tbody tr th:only-of-type {\n",
       "        vertical-align: middle;\n",
       "    }\n",
       "\n",
       "    .dataframe tbody tr th {\n",
       "        vertical-align: top;\n",
       "    }\n",
       "\n",
       "    .dataframe thead th {\n",
       "        text-align: right;\n",
       "    }\n",
       "</style>\n",
       "<table border=\"1\" class=\"dataframe\">\n",
       "  <thead>\n",
       "    <tr style=\"text-align: right;\">\n",
       "      <th></th>\n",
       "      <th>Title</th>\n",
       "      <th>Description</th>\n",
       "      <th>URL</th>\n",
       "    </tr>\n",
       "  </thead>\n",
       "  <tbody>\n",
       "    <tr>\n",
       "      <th>0</th>\n",
       "      <td>3D</td>\n",
       "      <td>3D modeling is the process of virtually develo...</td>\n",
       "      <td>https://github.com/topics/3d</td>\n",
       "    </tr>\n",
       "    <tr>\n",
       "      <th>1</th>\n",
       "      <td>Ajax</td>\n",
       "      <td>Ajax is a technique for creating interactive w...</td>\n",
       "      <td>https://github.com/topics/ajax</td>\n",
       "    </tr>\n",
       "    <tr>\n",
       "      <th>2</th>\n",
       "      <td>Algorithm</td>\n",
       "      <td>Algorithms are self-contained sequences that c...</td>\n",
       "      <td>https://github.com/topics/algorithm</td>\n",
       "    </tr>\n",
       "    <tr>\n",
       "      <th>3</th>\n",
       "      <td>Amp</td>\n",
       "      <td>Amp is a non-blocking concurrency framework fo...</td>\n",
       "      <td>https://github.com/topics/amphp</td>\n",
       "    </tr>\n",
       "    <tr>\n",
       "      <th>4</th>\n",
       "      <td>Android</td>\n",
       "      <td>Android is an operating system built by Google...</td>\n",
       "      <td>https://github.com/topics/android</td>\n",
       "    </tr>\n",
       "  </tbody>\n",
       "</table>\n",
       "</div>"
      ],
      "text/plain": [
       "       Title                                        Description  \\\n",
       "0         3D  3D modeling is the process of virtually develo...   \n",
       "1       Ajax  Ajax is a technique for creating interactive w...   \n",
       "2  Algorithm  Algorithms are self-contained sequences that c...   \n",
       "3        Amp  Amp is a non-blocking concurrency framework fo...   \n",
       "4    Android  Android is an operating system built by Google...   \n",
       "\n",
       "                                   URL  \n",
       "0         https://github.com/topics/3d  \n",
       "1       https://github.com/topics/ajax  \n",
       "2  https://github.com/topics/algorithm  \n",
       "3      https://github.com/topics/amphp  \n",
       "4    https://github.com/topics/android  "
      ]
     },
     "execution_count": 45,
     "metadata": {},
     "output_type": "execute_result"
    }
   ],
   "source": [
    "os.chdir(\"C:\\\\Users\\\\shakkhar paul\\\\Desktop\\\\Project 1\"+\"\\\\\"+\"GitHub topics\")\n",
    "topics=list()\n",
    "for csv in os.listdir(\"C:\\\\Users\\\\shakkhar paul\\\\Desktop\\\\Project 1\"+\"\\\\\"+\"GitHub topics\"+\"\\\\\"):\n",
    "    data=pd.read_csv(csv)\n",
    "    topics.append(data)\n",
    "topics_df=pd.concat(topics)\n",
    "os.chdir(\"C:\\\\Users\\\\shakkhar paul\\\\Desktop\\\\Project 1\")\n",
    "topics_df.to_csv(\"All_Topics.csv\", index=None)\n",
    "topics_df[:5]"
   ]
  },
  {
   "cell_type": "markdown",
   "id": "bdec4e2c",
   "metadata": {},
   "source": [
    "What we did above is pretty simple. We concatenated all the CSV files in GitHub Topics so that we get a single dataframe of all the topics"
   ]
  },
  {
   "cell_type": "markdown",
   "id": "134b488b",
   "metadata": {},
   "source": [
    "Now, let us see how we get top 100 repositories from each topic"
   ]
  },
  {
   "cell_type": "markdown",
   "id": "e3b6ecad",
   "metadata": {},
   "source": [
    "- We visited only the first repository pages from each topic page.\n",
    "- But if we modify our URL to https://github.com/topics/(topic)?page=2 we will see the 2nd repository page.\n",
    "- Similarly, if we keep changing last digit of the URL, we will be redirected to all the topic webpages.\n",
    "\n",
    "NOTE :- There maybe hundreds of thousasnds of repositories from some topic. We probably don't want so many records. Let us scrape for first 5 pages of from each topic."
   ]
  },
  {
   "cell_type": "markdown",
   "id": "7faba412",
   "metadata": {},
   "source": [
    "Let us modify our previous repository functions according to our requirements."
   ]
  },
  {
   "cell_type": "code",
   "execution_count": 46,
   "id": "aa5f9faf",
   "metadata": {},
   "outputs": [],
   "source": [
    "def get_all_repos():\n",
    "    print(\"Scraping through all topics at https://github.com/topics\")\n",
    "    all_topics=dict()\n",
    "    for index,row in topics_df.iterrows():\n",
    "        all_topics[row[\"Title\"]]=row[\"URL\"]\n",
    "    for k,v in all_topics.items():\n",
    "        topic_url=v\n",
    "        topic_name=k\n",
    "        print(\"Scraping through\",topic_name,\"repositories at\",topic_url)\n",
    "        headers={\"User-Agent\":\"Mozilla/5.0 (Windows NT 10.0; Win64; x64) AppleWebKit/537.36 (KHTML, like Gecko) Chrome/91.0.4472.124 Safari/537.36\"}\n",
    "        n=1\n",
    "        username_list=list()\n",
    "        repo_name_list=list()\n",
    "        repo_url_list=list()\n",
    "        repo_star_list=list()\n",
    "        while n<5:\n",
    "            s=str(n)\n",
    "            response=requests.get(topic_url+\"?page=\"+s, headers =headers)\n",
    "            if response.status_code<200 or response.status_code>400:\n",
    "                raise Exception(\"Error message:\",response.status_code,\"Failed to load page \",topic_url)\n",
    "            soup=BeautifulSoup(response.text, \"html.parser\")\n",
    "            for i in range(len(get_repo(soup)[\"Username\"])):\n",
    "                username_list.append(get_repo(soup)[\"Username\"][i])\n",
    "            for i in range(len(get_repo(soup)[\"Repository Name\"])):\n",
    "                repo_name_list.append(get_repo(soup)[\"Repository Name\"][i])\n",
    "            for i in range(len(get_repo(soup)[\"URL\"])):\n",
    "                repo_url_list.append(get_repo(soup)[\"URL\"][i])\n",
    "            for i in range(len(get_repo_stars(soup))):\n",
    "                repo_star_list.append(get_repo_stars(soup)[i])\n",
    "            n=n+1\n",
    "        all_repos_dict={\"Repository Name\":repo_name_list, \"Username\":username_list, \"Stars\":repo_star_list, \"URL\":repo_url_list}\n",
    "        repos_df=pd.DataFrame(all_repos_dict)\n",
    "        fname=topic_name+\".csv\"\n",
    "        if os.path.exists(fname):\n",
    "            print(\"The file\",fname,\"already exists. Skipping . . . \")\n",
    "        repos_df.to_csv(fname, index=None)\n",
    "    print(\"ALL FILES CREATED\")\n",
    "    print(\"Please go to GitHub Repositories to check your files.\")"
   ]
  },
  {
   "cell_type": "markdown",
   "id": "d821f8a1",
   "metadata": {},
   "source": [
    "The above functions almost similar to the function get_repos_table(), but in this one, we created a while loop go through first 5 repository pages from each topic."
   ]
  },
  {
   "cell_type": "code",
   "execution_count": 47,
   "id": "3f718f39",
   "metadata": {},
   "outputs": [],
   "source": [
    "def get_repos_folder():\n",
    "    folder=\"GitHub Repositories\"\n",
    "    main_dir=\"C:\\\\Users\\\\shakkhar paul\\\\Desktop\\\\Project 1\"\n",
    "    os.chdir(main_dir)\n",
    "    target_dir=main_dir+\"\\\\\"+folder\n",
    "    if os.path.isdir(target_dir):\n",
    "        print(folder,\"already exists in the directory.\")\n",
    "        print(\"Deleting previous previous files in\",folder,\"...\")\n",
    "        for file in os.listdir(target_dir+\"\\\\\"):\n",
    "            os.remove(target_dir+\"\\\\\"+file)\n",
    "        os.chdir(target_dir)\n",
    "        get_all_repos()\n",
    "        os.chdir(main_dir)\n",
    "    else:\n",
    "        print(folder,\"doesn't exists in the directory.\")\n",
    "        print(\"Creating folder\",folder,\"in the directory...\")\n",
    "        os.mkdir(folder)\n",
    "        os.chdir(target_dir)\n",
    "        get_all_repos()\n",
    "        os.chdir(main_dir)"
   ]
  },
  {
   "cell_type": "markdown",
   "id": "9838817f",
   "metadata": {},
   "source": [
    "We created the above function to create a new folder GitHub Repositories where we will save all the CSV files which will be created after calling get_all_repos(). If we have previously called get_repos_folder(), calling it again will delete the previous records and replace it with the new ones, with the help of if statement"
   ]
  },
  {
   "cell_type": "markdown",
   "id": "8a2661e7",
   "metadata": {},
   "source": [
    "Let us call the function get_repos_folder()"
   ]
  },
  {
   "cell_type": "code",
   "execution_count": 49,
   "id": "e74eb672",
   "metadata": {
    "scrolled": true
   },
   "outputs": [
    {
     "name": "stdout",
     "output_type": "stream",
     "text": [
      "GitHub Repositories already exists in the directory.\n",
      "Deleting previous previous files in GitHub Repositories ...\n",
      "Scraping through all topics at https://github.com/topics\n",
      "Scraping through 3D repositories at https://github.com/topics/3d\n",
      "Scraping through Ajax repositories at https://github.com/topics/ajax\n",
      "Scraping through Algorithm repositories at https://github.com/topics/algorithm\n",
      "Scraping through Amp repositories at https://github.com/topics/amphp\n",
      "Scraping through Android repositories at https://github.com/topics/android\n",
      "Scraping through Angular repositories at https://github.com/topics/angular\n",
      "Scraping through Ansible repositories at https://github.com/topics/ansible\n",
      "Scraping through API repositories at https://github.com/topics/api\n",
      "Scraping through Arduino repositories at https://github.com/topics/arduino\n",
      "Scraping through ASP.NET repositories at https://github.com/topics/aspnet\n",
      "Scraping through Atom repositories at https://github.com/topics/atom\n",
      "Scraping through Awesome Lists repositories at https://github.com/topics/awesome\n",
      "Scraping through Amazon Web Services repositories at https://github.com/topics/aws\n",
      "Scraping through Azure repositories at https://github.com/topics/azure\n",
      "Scraping through Babel repositories at https://github.com/topics/babel\n",
      "Scraping through Bash repositories at https://github.com/topics/bash\n",
      "Scraping through Bitcoin repositories at https://github.com/topics/bitcoin\n",
      "Scraping through Bootstrap repositories at https://github.com/topics/bootstrap\n",
      "Scraping through Bot repositories at https://github.com/topics/bot\n",
      "Scraping through C repositories at https://github.com/topics/c\n",
      "Scraping through Chrome repositories at https://github.com/topics/chrome\n",
      "Scraping through Chrome extension repositories at https://github.com/topics/chrome-extension\n",
      "Scraping through Command line interface repositories at https://github.com/topics/cli\n",
      "Scraping through Clojure repositories at https://github.com/topics/clojure\n",
      "Scraping through Code quality repositories at https://github.com/topics/code-quality\n",
      "Scraping through Code review repositories at https://github.com/topics/code-review\n",
      "Scraping through Compiler repositories at https://github.com/topics/compiler\n",
      "Scraping through Continuous integration repositories at https://github.com/topics/continuous-integration\n",
      "Scraping through COVID-19 repositories at https://github.com/topics/covid-19\n",
      "Scraping through C++ repositories at https://github.com/topics/cpp\n",
      "Scraping through Cryptocurrency repositories at https://github.com/topics/cryptocurrency\n",
      "Scraping through Crystal repositories at https://github.com/topics/crystal\n",
      "Scraping through C# repositories at https://github.com/topics/csharp\n",
      "Scraping through CSS repositories at https://github.com/topics/css\n",
      "Scraping through Data structures repositories at https://github.com/topics/data-structures\n",
      "Scraping through Data visualization repositories at https://github.com/topics/data-visualization\n",
      "Scraping through Database repositories at https://github.com/topics/database\n",
      "Scraping through Deep learning repositories at https://github.com/topics/deep-learning\n",
      "Scraping through Dependency management repositories at https://github.com/topics/dependency-management\n",
      "Scraping through Deployment repositories at https://github.com/topics/deployment\n",
      "Scraping through Django repositories at https://github.com/topics/django\n",
      "Scraping through Docker repositories at https://github.com/topics/docker\n",
      "Scraping through Documentation repositories at https://github.com/topics/documentation\n",
      "Scraping through .NET repositories at https://github.com/topics/dotnet\n",
      "Scraping through Electron repositories at https://github.com/topics/electron\n",
      "Scraping through Elixir repositories at https://github.com/topics/elixir\n",
      "Scraping through Emacs repositories at https://github.com/topics/emacs\n",
      "Scraping through Ember repositories at https://github.com/topics/ember\n",
      "Scraping through Emoji repositories at https://github.com/topics/emoji\n",
      "Scraping through Emulator repositories at https://github.com/topics/emulator\n",
      "Scraping through ES6 repositories at https://github.com/topics/es6\n",
      "Scraping through ESLint repositories at https://github.com/topics/eslint\n",
      "Scraping through Ethereum repositories at https://github.com/topics/ethereum\n",
      "Scraping through Express repositories at https://github.com/topics/express\n",
      "Scraping through Firebase repositories at https://github.com/topics/firebase\n",
      "Scraping through Firefox repositories at https://github.com/topics/firefox\n",
      "Scraping through Flask repositories at https://github.com/topics/flask\n",
      "Scraping through Font repositories at https://github.com/topics/font\n",
      "Scraping through Framework repositories at https://github.com/topics/framework\n",
      "Scraping through Front end repositories at https://github.com/topics/frontend\n",
      "Scraping through Game engine repositories at https://github.com/topics/game-engine\n",
      "Scraping through Git repositories at https://github.com/topics/git\n",
      "Scraping through GitHub API repositories at https://github.com/topics/github-api\n",
      "Scraping through Go repositories at https://github.com/topics/go\n",
      "Scraping through Google repositories at https://github.com/topics/google\n",
      "Scraping through Gradle repositories at https://github.com/topics/gradle\n",
      "Scraping through GraphQL repositories at https://github.com/topics/graphql\n",
      "Scraping through Gulp repositories at https://github.com/topics/gulp\n",
      "Scraping through Hacktoberfest repositories at https://github.com/topics/hacktoberfest\n",
      "Scraping through Haskell repositories at https://github.com/topics/haskell\n",
      "Scraping through Homebrew repositories at https://github.com/topics/homebrew\n",
      "Scraping through Homebridge repositories at https://github.com/topics/homebridge\n",
      "Scraping through HTML repositories at https://github.com/topics/html\n",
      "Scraping through HTTP repositories at https://github.com/topics/http\n",
      "Scraping through Icon font repositories at https://github.com/topics/icon-font\n",
      "Scraping through iOS repositories at https://github.com/topics/ios\n",
      "Scraping through IPFS repositories at https://github.com/topics/ipfs\n",
      "Scraping through Java repositories at https://github.com/topics/java\n",
      "Scraping through JavaScript repositories at https://github.com/topics/javascript\n",
      "Scraping through Jekyll repositories at https://github.com/topics/jekyll\n",
      "Scraping through jQuery repositories at https://github.com/topics/jquery\n",
      "Scraping through JSON repositories at https://github.com/topics/json\n",
      "Scraping through The Julia Language repositories at https://github.com/topics/julia\n",
      "Scraping through Jupyter Notebook repositories at https://github.com/topics/jupyter-notebook\n",
      "Scraping through Koa repositories at https://github.com/topics/koa\n",
      "Scraping through Kotlin repositories at https://github.com/topics/kotlin\n",
      "Scraping through Kubernetes repositories at https://github.com/topics/kubernetes\n",
      "Scraping through Laravel repositories at https://github.com/topics/laravel\n",
      "Scraping through LaTeX repositories at https://github.com/topics/latex\n",
      "Scraping through Library repositories at https://github.com/topics/library\n",
      "Scraping through Linux repositories at https://github.com/topics/linux\n",
      "Scraping through Localization repositories at https://github.com/topics/localization\n",
      "Scraping through Lua repositories at https://github.com/topics/lua\n",
      "Scraping through Machine learning repositories at https://github.com/topics/machine-learning\n",
      "Scraping through macOS repositories at https://github.com/topics/macos\n",
      "Scraping through Markdown repositories at https://github.com/topics/markdown\n",
      "Scraping through Mastodon repositories at https://github.com/topics/mastodon\n",
      "Scraping through Material design repositories at https://github.com/topics/material-design\n",
      "Scraping through MATLAB repositories at https://github.com/topics/matlab\n",
      "Scraping through Maven repositories at https://github.com/topics/maven\n",
      "Scraping through Minecraft repositories at https://github.com/topics/minecraft\n",
      "Scraping through Mobile repositories at https://github.com/topics/mobile\n",
      "Scraping through Monero repositories at https://github.com/topics/monero\n",
      "Scraping through MongoDB repositories at https://github.com/topics/mongodb\n",
      "Scraping through Mongoose repositories at https://github.com/topics/mongoose\n",
      "Scraping through Monitoring repositories at https://github.com/topics/monitoring\n"
     ]
    },
    {
     "name": "stdout",
     "output_type": "stream",
     "text": [
      "Scraping through MvvmCross repositories at https://github.com/topics/mvvmcross\n",
      "Scraping through MySQL repositories at https://github.com/topics/mysql\n",
      "Scraping through NativeScript repositories at https://github.com/topics/nativescript\n",
      "Scraping through Nim repositories at https://github.com/topics/nim\n",
      "Scraping through Natural language processing repositories at https://github.com/topics/nlp\n",
      "Scraping through Node.js repositories at https://github.com/topics/nodejs\n",
      "Scraping through NoSQL repositories at https://github.com/topics/nosql\n",
      "Scraping through npm repositories at https://github.com/topics/npm\n",
      "Scraping through Objective-C repositories at https://github.com/topics/objective-c\n",
      "Scraping through OpenGL repositories at https://github.com/topics/opengl\n",
      "Scraping through Operating system repositories at https://github.com/topics/operating-system\n",
      "Scraping through P2P repositories at https://github.com/topics/p2p\n",
      "Scraping through Package manager repositories at https://github.com/topics/package-manager\n",
      "Scraping through Parsing repositories at https://github.com/topics/parsing\n",
      "Scraping through Perl repositories at https://github.com/topics/perl\n",
      "Scraping through Phaser repositories at https://github.com/topics/phaser\n",
      "Scraping through PHP repositories at https://github.com/topics/php\n",
      "Scraping through PICO-8 repositories at https://github.com/topics/pico-8\n",
      "Scraping through Pixel Art repositories at https://github.com/topics/pixel-art\n",
      "Scraping through PostgreSQL repositories at https://github.com/topics/postgresql\n",
      "Scraping through Project management repositories at https://github.com/topics/project-management\n",
      "Scraping through Publishing repositories at https://github.com/topics/publishing\n",
      "Scraping through PWA repositories at https://github.com/topics/pwa\n",
      "Scraping through Python repositories at https://github.com/topics/python\n",
      "Scraping through Qt repositories at https://github.com/topics/qt\n",
      "Scraping through R repositories at https://github.com/topics/r\n",
      "Scraping through Rails repositories at https://github.com/topics/rails\n",
      "Scraping through Raspberry Pi repositories at https://github.com/topics/raspberry-pi\n",
      "Scraping through Ratchet repositories at https://github.com/topics/ratchet\n",
      "Scraping through React repositories at https://github.com/topics/react\n",
      "Scraping through React Native repositories at https://github.com/topics/react-native\n",
      "Scraping through ReactiveUI repositories at https://github.com/topics/reactiveui\n",
      "Scraping through Redux repositories at https://github.com/topics/redux\n",
      "Scraping through REST API repositories at https://github.com/topics/rest-api\n",
      "Scraping through Ruby repositories at https://github.com/topics/ruby\n",
      "Scraping through Rust repositories at https://github.com/topics/rust\n",
      "Scraping through Sass repositories at https://github.com/topics/sass\n",
      "Scraping through Scala repositories at https://github.com/topics/scala\n",
      "Scraping through scikit-learn repositories at https://github.com/topics/scikit-learn\n",
      "Scraping through Software-defined networking repositories at https://github.com/topics/sdn\n",
      "Scraping through Security repositories at https://github.com/topics/security\n",
      "Scraping through Server repositories at https://github.com/topics/server\n",
      "Scraping through Serverless repositories at https://github.com/topics/serverless\n",
      "Scraping through Shell repositories at https://github.com/topics/shell\n",
      "Scraping through Sketch repositories at https://github.com/topics/sketch\n",
      "Scraping through SpaceVim repositories at https://github.com/topics/spacevim\n",
      "Scraping through Spring Boot repositories at https://github.com/topics/spring-boot\n",
      "Scraping through SQL repositories at https://github.com/topics/sql\n",
      "Scraping through Storybook repositories at https://github.com/topics/storybook\n",
      "Scraping through Support repositories at https://github.com/topics/support\n",
      "Scraping through Swift repositories at https://github.com/topics/swift\n",
      "Scraping through Symfony repositories at https://github.com/topics/symfony\n",
      "Scraping through Telegram repositories at https://github.com/topics/telegram\n",
      "Scraping through Tensorflow repositories at https://github.com/topics/tensorflow\n",
      "Scraping through Terminal repositories at https://github.com/topics/terminal\n",
      "Scraping through Terraform repositories at https://github.com/topics/terraform\n",
      "Scraping through Testing repositories at https://github.com/topics/testing\n",
      "Scraping through Twitter repositories at https://github.com/topics/twitter\n",
      "Scraping through TypeScript repositories at https://github.com/topics/typescript\n",
      "Scraping through Ubuntu repositories at https://github.com/topics/ubuntu\n",
      "Scraping through Unity repositories at https://github.com/topics/unity\n",
      "Scraping through Unreal Engine repositories at https://github.com/topics/unreal-engine\n",
      "Scraping through Vagrant repositories at https://github.com/topics/vagrant\n",
      "Scraping through Vim repositories at https://github.com/topics/vim\n",
      "Scraping through Virtual reality repositories at https://github.com/topics/virtual-reality\n",
      "Scraping through Vue.js repositories at https://github.com/topics/vue\n",
      "Scraping through Wagtail repositories at https://github.com/topics/wagtail\n",
      "Scraping through Web Components repositories at https://github.com/topics/web-components\n",
      "Scraping through Web app repositories at https://github.com/topics/webapp\n",
      "Scraping through Webpack repositories at https://github.com/topics/webpack\n",
      "Scraping through Windows repositories at https://github.com/topics/windows\n",
      "Scraping through WordPlate repositories at https://github.com/topics/wordplate\n",
      "Scraping through WordPress repositories at https://github.com/topics/wordpress\n",
      "Scraping through Xamarin repositories at https://github.com/topics/xamarin\n",
      "Scraping through XML repositories at https://github.com/topics/xml\n",
      "ALL FILES CREATED\n",
      "Please go to GitHub Repositories to check your files.\n"
     ]
    }
   ],
   "source": [
    "get_repos_folder()"
   ]
  },
  {
   "cell_type": "markdown",
   "id": "f41a8cbe",
   "metadata": {},
   "source": [
    "Finally, our all objectives are fulfilled. We can now go to the directory and see that there is a folder GitHub Repositories in which there are all the CSV filesfor each topics."
   ]
  },
  {
   "cell_type": "code",
   "execution_count": 50,
   "id": "70c42bd6",
   "metadata": {
    "scrolled": true
   },
   "outputs": [
    {
     "data": {
      "image/png": "[encoded data removed]",
      "text/plain": [
       "<IPython.core.display.Image object>"
      ]
     },
     "execution_count": 50,
     "metadata": {},
     "output_type": "execute_result"
    }
   ],
   "source": [
    "Image(\"6.png\")"
   ]
  },
  {
   "cell_type": "markdown",
   "id": "adab3079",
   "metadata": {},
   "source": [
    "## Summary\n",
    "- We used requests library to send request to the GitHub server for the Topics webpage. using the url https://github.com/topics . Then we use BeautifulSoup to scrape through the HTML of the page to collect topic name, topic description and topic URL and, saved it in a CSV file Topics.csv .\n",
    "- We sent request to each topic URL and scraped through the HTML code of each topic and collected repository name, username, star count and URL to the repositary and, creates a CSV file for each topic and saved it inside a folder Repositories.\n",
    "- We then generalised the whole process and scraped through all 7 pages of topics on GitHub and created a CSV file All_topics.csv . We also scraped through first 4 repository pages of each topic and created a CSV file for each topic and saved it in the folder GitHub Repositories."
   ]
  },
  {
   "cell_type": "markdown",
   "id": "879d6689",
   "metadata": {},
   "source": [
    "## References\n",
    "I generally don't remember all codes and neither do I try to. Before solving any problem, I first create a rough outline of what I want to do and how I will solve it. Then I look for the syntax online using Goolge. I really want to thank saome websites which helped me with the codes and syntax :-\n",
    "- Stack Overflow https://stackoverflow.com/\n",
    "- Geeks For Geeks https://www.geeksforgeeks.org/\n",
    "- MDN Web Docs https://developer.mozilla.org/en-US/\n",
    "- W3Schools https://www.w3schools.com/\n",
    "- There are multiple videos on YouTube\n",
    "- Also if you are a beginner and want to learn python from it's roots, I suggest you check the free course PY4E  by Chuck Severance at https://www.py4e.com/ ."
   ]
  },
  {
   "cell_type": "markdown",
   "id": "edad6878",
   "metadata": {},
   "source": [
    "## Future Work\n",
    "- This is my ever project, so I will be doing more web scraping projects like this in future.\n",
    "- I'm currently learning data analysis, so I will start doing some EDA projects\n",
    "- There are many things that I can do with this project. I am planning to make an EDA project where I will analyse all the data I get from this project"
   ]
  },
  {
   "cell_type": "markdown",
   "id": "b9f098ea",
   "metadata": {},
   "source": [
    "### If want to contact me, you can\n",
    "- come say hi on my email sayanpaul666.ap@gmail.com\n",
    "- follow me and DM me on my Instagram account https://www.instagram.com/beautiful_insanity_666 ."
   ]
  },
  {
   "cell_type": "code",
   "execution_count": 1,
   "id": "3d3bf39a",
   "metadata": {},
   "outputs": [],
   "source": [
    "import jovian"
   ]
  },
  {
   "cell_type": "code",
   "execution_count": null,
   "id": "cd129736",
   "metadata": {},
   "outputs": [
    {
     "data": {
      "application/javascript": [
       "window.require && require([\"base/js/namespace\"],function(Jupyter){Jupyter.notebook.save_checkpoint()})"
      ],
      "text/plain": [
       "<IPython.core.display.Javascript object>"
      ]
     },
     "metadata": {},
     "output_type": "display_data"
    }
   ],
   "source": [
    "jovian.commit(filename='C:\\\\Users\\\\shakkhar paul\\\\Desktop\\\\Project 1\\\\Project_1_final.ipynb')"
   ]
  },
  {
   "cell_type": "code",
   "execution_count": null,
   "id": "e2f16141",
   "metadata": {},
   "outputs": [],
   "source": []
  }
 ],
 "metadata": {
  "kernelspec": {
   "display_name": "Python 3 (ipykernel)",
   "language": "python",
   "name": "python3"
  },
  "language_info": {
   "codemirror_mode": {
    "name": "ipython",
    "version": 3
   },
   "file_extension": ".py",
   "mimetype": "text/x-python",
   "name": "python",
   "nbconvert_exporter": "python",
   "pygments_lexer": "ipython3",
   "version": "3.9.5"
  }
 },
 "nbformat": 4,
 "nbformat_minor": 5
}
